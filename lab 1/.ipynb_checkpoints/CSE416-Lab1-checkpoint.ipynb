{
 "cells": [
  {
   "cell_type": "markdown",
   "id": "9c0f9e3a",
   "metadata": {},
   "source": [
    "<h1><center>STAT/CSE 416 Lab 1: Course Infrastructure; Pandas</center></h1>\n",
    "<center><b>Section:</b> SECTION</center>\n",
    "<center><b>Instructor:</b> Emilija Perković</center>\n",
    "<center><b>TA:</b> TA</center>\n",
    "<center><b>Date:</b> January 12, 2023</center>\n",
    "<center><b>Edited by Anne Wagner from material by:</b> Ronak Mehta</center>\n"
   ]
  },
  {
   "cell_type": "markdown",
   "id": "00ff8cca",
   "metadata": {},
   "source": [
    "## 1. Introduction\n",
    "\n",
    "Welcome to the course! The course labs will focus on the python techniques and tools that will be required to complete the course materials. Today we will be discussing basics of the course and the `pandas` package for processing tabular data in Python. \n",
    "\n",
    "### 1.1. Purpose of section?\n",
    "\n",
    "- To implement concepts from course using the Python tech stack (set of tools used for natural/social/data science).\n",
    "- To learn techniques needed for the homework.\n",
    "- To ask questions in a small-group setting.\n",
    "\n",
    "### 1.2. Jupyter notebooks\n",
    "\n",
    "Jupyter is **markdown** software, or a program used to write and render formatted text, such as plain text, code, and mathematical notation. Not only is Jupyter a text editor, but it also has the ability to run Python code. Specifically, \n",
    "- A Jupyter **notebook** is a document that contains a list of **cells**, each containing some text. \n",
    "- These can either be **markdown cells** or **code cells**.\n",
    "- Cells can be **run** or **executed**, which means rendering the text for markdown cells and running the code for code cells.\n",
    "- Unlike a typical Python script that is written in a `.py` file and run from start to finish, arranging code into cells allows you to run little chunks at a time and is more readable. \n",
    "- Variables and functions defined within cells are **saved into memory** when they are run, so they can be referenced in subsequent cells. \n",
    "- Cells can be run in any order, not necessarily the displayed order. "
   ]
  },
  {
   "cell_type": "markdown",
   "id": "ecd163de",
   "metadata": {},
   "source": [
    "Jupyter can be navigated in two modes. In **view mode**, we can highlight cells by clicking on them, but we cannot edit their contents. The following commands are applied from view mode.\n",
    "- Highlight a cell: Click the cell.\n",
    "- Move to an adjacent cell: Arrow key up or down.\n",
    "- Change a code cell into a markdown cell: Press `m`.\n",
    "- Change a markdown cell into a code cell: Press `y`.\n",
    "- Add a cell above the highlighted cell: Press `a`.\n",
    "- Add a cell below the highlighted cell: Press `b`.\n",
    "- Delete the highlighted cell: Press `d` twice.\n",
    "- Run the highlighted cell: Press `Cmd` + `Enter` or `Ctrl` + `Enter`.\n",
    "- Run the highlighted cell and highlight the next cell: Press `Shift` + `Enter`.\n",
    "\n",
    "Enter **edit mode** for a cell by either double clicking on it or pressing `Enter`. Now this is regular text editor, but there are still some helpful shortcuts.\n",
    "- Select text: Use the mouse, or hold `Shift` and move the cursor up or down.\n",
    "- Return to view mode: Press `Esc`.\n",
    "- Comment out selected lines of code: Press `Cmd` + `/`."
   ]
  },
  {
   "cell_type": "markdown",
   "id": "ee245999",
   "metadata": {},
   "source": [
    "**Exercise 1.1:** Create a markdown cell below and add four lines of text (double space them):\n",
    "- Your name in monospace (code) font.\n",
    "- Your major in boldface.\n",
    "- Your hometown italicized.\n",
    "- Your favorite equation in mathematical font.\n",
    "\n",
    "You might find cheat sheets such as [this one](https://ingeh.medium.com/markdown-for-jupyter-notebooks-cheatsheet-386c05aeebed) helpful.\n",
    "\n",
    "You can also use <b>HTML</b> tags if you want"
   ]
  },
  {
   "cell_type": "markdown",
   "id": "b8649d6a",
   "metadata": {},
   "source": [
    "## 2. Course infrastructure\n",
    "\n",
    "By now, you should generally be familiar with the various software tools (Canvas, EdStem, Gradescope, Zoom) and assignment types (checkpoints, homework, learning reflections) that are used in the course. Reminders:\n",
    "- Checkpoints are found in the \"Assignments\" tab of Canvas, and correspond to a particular lecture. They are **due 30 minutes before the start of the next lecture**.\n",
    "- Homework can be found linked on EdStem, or in the \"Files\" tab of Canvas. They are **due every Tuesday at 9pm** on Gradescope.\n",
    "- Learning reflections are uploaded as PDFs to Gradescope, and are **due every Friday at 9pm**.\n",
    "\n",
    "Please check \"Schedule and Notes\" on Canvas if you are unsure of any deadlines."
   ]
  },
  {
   "cell_type": "markdown",
   "id": "3bbd1dc9",
   "metadata": {},
   "source": [
    "## 3. Pandas"
   ]
  },
  {
   "cell_type": "markdown",
   "id": "e9fe517b",
   "metadata": {},
   "source": [
    "`pandas` is a software package for processing tabular data, i.e. data that comes in a table of rows and columns in which rows represent different items and columns represent different attributes. Run the cells to learn the syntax of the package."
   ]
  },
  {
   "cell_type": "markdown",
   "id": "340957f1",
   "metadata": {},
   "source": [
    "### 3.1. Basics"
   ]
  },
  {
   "cell_type": "code",
   "execution_count": 2,
   "id": "0abac532",
   "metadata": {},
   "outputs": [],
   "source": [
    "# Import the package, usually abbreviated as \"pd\".\n",
    "import pandas as pd"
   ]
  },
  {
   "cell_type": "markdown",
   "id": "5fc14bdb",
   "metadata": {},
   "source": [
    "We import the commonly-used Credit dataset, which contains credit-related information on $n = 400$ individuals. The table is represented as a `pandas` object called a `DataFrame`."
   ]
  },
  {
   "cell_type": "code",
   "execution_count": 3,
   "id": "02016584",
   "metadata": {},
   "outputs": [],
   "source": [
    "# Read from a .csv file.\n",
    "credit = pd.read_csv(\"Credit.csv\", index_col=0)"
   ]
  },
  {
   "cell_type": "code",
   "execution_count": 4,
   "id": "6547a3c1",
   "metadata": {},
   "outputs": [
    {
     "data": {
      "text/html": [
       "<div>\n",
       "<style scoped>\n",
       "    .dataframe tbody tr th:only-of-type {\n",
       "        vertical-align: middle;\n",
       "    }\n",
       "\n",
       "    .dataframe tbody tr th {\n",
       "        vertical-align: top;\n",
       "    }\n",
       "\n",
       "    .dataframe thead th {\n",
       "        text-align: right;\n",
       "    }\n",
       "</style>\n",
       "<table border=\"1\" class=\"dataframe\">\n",
       "  <thead>\n",
       "    <tr style=\"text-align: right;\">\n",
       "      <th></th>\n",
       "      <th>Income</th>\n",
       "      <th>Limit</th>\n",
       "      <th>Rating</th>\n",
       "      <th>Cards</th>\n",
       "      <th>Age</th>\n",
       "      <th>Education</th>\n",
       "      <th>Gender</th>\n",
       "      <th>Student</th>\n",
       "      <th>Married</th>\n",
       "      <th>Ethnicity</th>\n",
       "      <th>Balance</th>\n",
       "    </tr>\n",
       "  </thead>\n",
       "  <tbody>\n",
       "    <tr>\n",
       "      <th>1</th>\n",
       "      <td>14.891</td>\n",
       "      <td>3606</td>\n",
       "      <td>283</td>\n",
       "      <td>2</td>\n",
       "      <td>34</td>\n",
       "      <td>11</td>\n",
       "      <td>Male</td>\n",
       "      <td>No</td>\n",
       "      <td>Yes</td>\n",
       "      <td>Caucasian</td>\n",
       "      <td>333</td>\n",
       "    </tr>\n",
       "    <tr>\n",
       "      <th>2</th>\n",
       "      <td>106.025</td>\n",
       "      <td>6645</td>\n",
       "      <td>483</td>\n",
       "      <td>3</td>\n",
       "      <td>82</td>\n",
       "      <td>15</td>\n",
       "      <td>Female</td>\n",
       "      <td>Yes</td>\n",
       "      <td>Yes</td>\n",
       "      <td>Asian</td>\n",
       "      <td>903</td>\n",
       "    </tr>\n",
       "    <tr>\n",
       "      <th>3</th>\n",
       "      <td>104.593</td>\n",
       "      <td>7075</td>\n",
       "      <td>514</td>\n",
       "      <td>4</td>\n",
       "      <td>71</td>\n",
       "      <td>11</td>\n",
       "      <td>Male</td>\n",
       "      <td>No</td>\n",
       "      <td>No</td>\n",
       "      <td>Asian</td>\n",
       "      <td>580</td>\n",
       "    </tr>\n",
       "    <tr>\n",
       "      <th>4</th>\n",
       "      <td>148.924</td>\n",
       "      <td>9504</td>\n",
       "      <td>681</td>\n",
       "      <td>3</td>\n",
       "      <td>36</td>\n",
       "      <td>11</td>\n",
       "      <td>Female</td>\n",
       "      <td>No</td>\n",
       "      <td>No</td>\n",
       "      <td>Asian</td>\n",
       "      <td>964</td>\n",
       "    </tr>\n",
       "    <tr>\n",
       "      <th>5</th>\n",
       "      <td>55.882</td>\n",
       "      <td>4897</td>\n",
       "      <td>357</td>\n",
       "      <td>2</td>\n",
       "      <td>68</td>\n",
       "      <td>16</td>\n",
       "      <td>Male</td>\n",
       "      <td>No</td>\n",
       "      <td>Yes</td>\n",
       "      <td>Caucasian</td>\n",
       "      <td>331</td>\n",
       "    </tr>\n",
       "    <tr>\n",
       "      <th>...</th>\n",
       "      <td>...</td>\n",
       "      <td>...</td>\n",
       "      <td>...</td>\n",
       "      <td>...</td>\n",
       "      <td>...</td>\n",
       "      <td>...</td>\n",
       "      <td>...</td>\n",
       "      <td>...</td>\n",
       "      <td>...</td>\n",
       "      <td>...</td>\n",
       "      <td>...</td>\n",
       "    </tr>\n",
       "    <tr>\n",
       "      <th>396</th>\n",
       "      <td>12.096</td>\n",
       "      <td>4100</td>\n",
       "      <td>307</td>\n",
       "      <td>3</td>\n",
       "      <td>32</td>\n",
       "      <td>13</td>\n",
       "      <td>Male</td>\n",
       "      <td>No</td>\n",
       "      <td>Yes</td>\n",
       "      <td>Caucasian</td>\n",
       "      <td>560</td>\n",
       "    </tr>\n",
       "    <tr>\n",
       "      <th>397</th>\n",
       "      <td>13.364</td>\n",
       "      <td>3838</td>\n",
       "      <td>296</td>\n",
       "      <td>5</td>\n",
       "      <td>65</td>\n",
       "      <td>17</td>\n",
       "      <td>Male</td>\n",
       "      <td>No</td>\n",
       "      <td>No</td>\n",
       "      <td>African American</td>\n",
       "      <td>480</td>\n",
       "    </tr>\n",
       "    <tr>\n",
       "      <th>398</th>\n",
       "      <td>57.872</td>\n",
       "      <td>4171</td>\n",
       "      <td>321</td>\n",
       "      <td>5</td>\n",
       "      <td>67</td>\n",
       "      <td>12</td>\n",
       "      <td>Female</td>\n",
       "      <td>No</td>\n",
       "      <td>Yes</td>\n",
       "      <td>Caucasian</td>\n",
       "      <td>138</td>\n",
       "    </tr>\n",
       "    <tr>\n",
       "      <th>399</th>\n",
       "      <td>37.728</td>\n",
       "      <td>2525</td>\n",
       "      <td>192</td>\n",
       "      <td>1</td>\n",
       "      <td>44</td>\n",
       "      <td>13</td>\n",
       "      <td>Male</td>\n",
       "      <td>No</td>\n",
       "      <td>Yes</td>\n",
       "      <td>Caucasian</td>\n",
       "      <td>0</td>\n",
       "    </tr>\n",
       "    <tr>\n",
       "      <th>400</th>\n",
       "      <td>18.701</td>\n",
       "      <td>5524</td>\n",
       "      <td>415</td>\n",
       "      <td>5</td>\n",
       "      <td>64</td>\n",
       "      <td>7</td>\n",
       "      <td>Female</td>\n",
       "      <td>No</td>\n",
       "      <td>No</td>\n",
       "      <td>Asian</td>\n",
       "      <td>966</td>\n",
       "    </tr>\n",
       "  </tbody>\n",
       "</table>\n",
       "<p>400 rows × 11 columns</p>\n",
       "</div>"
      ],
      "text/plain": [
       "      Income  Limit  Rating  Cards  Age  Education  Gender Student Married  \\\n",
       "1     14.891   3606     283      2   34         11    Male      No     Yes   \n",
       "2    106.025   6645     483      3   82         15  Female     Yes     Yes   \n",
       "3    104.593   7075     514      4   71         11    Male      No      No   \n",
       "4    148.924   9504     681      3   36         11  Female      No      No   \n",
       "5     55.882   4897     357      2   68         16    Male      No     Yes   \n",
       "..       ...    ...     ...    ...  ...        ...     ...     ...     ...   \n",
       "396   12.096   4100     307      3   32         13    Male      No     Yes   \n",
       "397   13.364   3838     296      5   65         17    Male      No      No   \n",
       "398   57.872   4171     321      5   67         12  Female      No     Yes   \n",
       "399   37.728   2525     192      1   44         13    Male      No     Yes   \n",
       "400   18.701   5524     415      5   64          7  Female      No      No   \n",
       "\n",
       "            Ethnicity  Balance  \n",
       "1           Caucasian      333  \n",
       "2               Asian      903  \n",
       "3               Asian      580  \n",
       "4               Asian      964  \n",
       "5           Caucasian      331  \n",
       "..                ...      ...  \n",
       "396         Caucasian      560  \n",
       "397  African American      480  \n",
       "398         Caucasian      138  \n",
       "399         Caucasian        0  \n",
       "400             Asian      966  \n",
       "\n",
       "[400 rows x 11 columns]"
      ]
     },
     "execution_count": 4,
     "metadata": {},
     "output_type": "execute_result"
    }
   ],
   "source": [
    "# Display the top and bottom of the data frame.\n",
    "credit"
   ]
  },
  {
   "cell_type": "code",
   "execution_count": 6,
   "id": "8dbb3a07",
   "metadata": {},
   "outputs": [
    {
     "data": {
      "text/plain": [
       "pandas.core.frame.DataFrame"
      ]
     },
     "execution_count": 6,
     "metadata": {},
     "output_type": "execute_result"
    }
   ],
   "source": [
    "# Display the data type of the \"credit\" variable.\n",
    "type(credit)"
   ]
  },
  {
   "cell_type": "code",
   "execution_count": 5,
   "id": "703a981a",
   "metadata": {},
   "outputs": [
    {
     "data": {
      "text/plain": [
       "(400, 11)"
      ]
     },
     "execution_count": 5,
     "metadata": {},
     "output_type": "execute_result"
    }
   ],
   "source": [
    "# Number of rows and columns.\n",
    "credit.shape"
   ]
  },
  {
   "cell_type": "code",
   "execution_count": 8,
   "id": "b6726be8",
   "metadata": {},
   "outputs": [
    {
     "data": {
      "text/plain": [
       "400"
      ]
     },
     "execution_count": 8,
     "metadata": {},
     "output_type": "execute_result"
    }
   ],
   "source": [
    "# Number of rows (two ways). \"len\" counts the first axis of any iterable Python object (lists, tuples, etc).\n",
    "len(credit)\n",
    "# credit.shape[0]"
   ]
  },
  {
   "cell_type": "markdown",
   "id": "09e29dda",
   "metadata": {},
   "source": [
    "**Exercise 3.1:** In the code cell below, write code to display the number of columns in `credit`."
   ]
  },
  {
   "cell_type": "code",
   "execution_count": 8,
   "id": "e71c8a77",
   "metadata": {},
   "outputs": [
    {
     "data": {
      "text/plain": [
       "11"
      ]
     },
     "execution_count": 8,
     "metadata": {},
     "output_type": "execute_result"
    }
   ],
   "source": [
    "#Input code here...\n",
    "\n"
   ]
  },
  {
   "cell_type": "markdown",
   "id": "f4e8e754",
   "metadata": {},
   "source": [
    "### 3.2. Indexing\n",
    "\n",
    "\"Indexing\" refers to selecting elements of the data frame based on their row and column indices."
   ]
  },
  {
   "cell_type": "code",
   "execution_count": 11,
   "id": "ea86b72b",
   "metadata": {},
   "outputs": [
    {
     "data": {
      "text/plain": [
       "1      283\n",
       "2      483\n",
       "3      514\n",
       "4      681\n",
       "5      357\n",
       "      ... \n",
       "396    307\n",
       "397    296\n",
       "398    321\n",
       "399    192\n",
       "400    415\n",
       "Name: Rating, Length: 400, dtype: int64"
      ]
     },
     "execution_count": 11,
     "metadata": {},
     "output_type": "execute_result"
    }
   ],
   "source": [
    "# Index the \"Rating\" column (two ways).\n",
    "credit['Rating']"
   ]
  },
  {
   "cell_type": "code",
   "execution_count": null,
   "id": "a2016709",
   "metadata": {},
   "outputs": [],
   "source": [
    "credit.Rating"
   ]
  },
  {
   "cell_type": "markdown",
   "id": "469bfef1",
   "metadata": {},
   "source": [
    "I prefer the former, as it makes clear that `\"Rating\"` is just a string that identifies a column, and is not a variable itself. A single column is of type `Series` instead of `DataFrame`, but behaves basically the same."
   ]
  },
  {
   "cell_type": "code",
   "execution_count": 20,
   "id": "d8077700",
   "metadata": {},
   "outputs": [
    {
     "data": {
      "text/plain": [
       "pandas.core.series.Series"
      ]
     },
     "execution_count": 20,
     "metadata": {},
     "output_type": "execute_result"
    }
   ],
   "source": [
    "type(credit['Rating'])"
   ]
  },
  {
   "cell_type": "markdown",
   "id": "3a63278b",
   "metadata": {},
   "source": [
    "If we instead want to know what the datatypes of the individual elements in the series are, we need to use the dtypes command."
   ]
  },
  {
   "cell_type": "code",
   "execution_count": 15,
   "id": "8d2a384e",
   "metadata": {},
   "outputs": [
    {
     "data": {
      "text/plain": [
       "Income       float64\n",
       "Limit          int64\n",
       "Rating         int64\n",
       "Cards          int64\n",
       "Age            int64\n",
       "Education      int64\n",
       "Gender        object\n",
       "Student       object\n",
       "Married       object\n",
       "Ethnicity     object\n",
       "Balance        int64\n",
       "dtype: object"
      ]
     },
     "execution_count": 15,
     "metadata": {},
     "output_type": "execute_result"
    }
   ],
   "source": [
    "credit.dtypes"
   ]
  },
  {
   "cell_type": "markdown",
   "id": "663428a4",
   "metadata": {},
   "source": [
    "If we want to run commands on one of these series, we can append the function to the end of the variable as follows."
   ]
  },
  {
   "cell_type": "code",
   "execution_count": 19,
   "id": "6a4c8ffb",
   "metadata": {},
   "outputs": [
    {
     "name": "stdout",
     "output_type": "stream",
     "text": [
      "Minimum rating: 93\n",
      "Maximum rating: 982\n",
      "Average rating: 354.94\n"
     ]
    }
   ],
   "source": [
    "# Compute column statistics.\n",
    "rating = credit['Rating']\n",
    "\n",
    "print(f\"Minimum rating: {rating.min()}\")\n",
    "print(f\"Maximum rating: {rating.max()}\")\n",
    "print(f\"Average rating: {credit['Rating'].mean()}\")\n",
    "#Careful not to use \" \" here as the print statement is inside \" \"."
   ]
  },
  {
   "cell_type": "markdown",
   "id": "865b02fe",
   "metadata": {},
   "source": [
    "Data frames can also be indexed numerically to select certain rows and columns, using the `iloc` function."
   ]
  },
  {
   "cell_type": "code",
   "execution_count": null,
   "id": "2ee0feb6",
   "metadata": {},
   "outputs": [],
   "source": [
    "# First five rows.\n",
    "credit.iloc[0:5]"
   ]
  },
  {
   "cell_type": "code",
   "execution_count": null,
   "id": "e04ee2b9",
   "metadata": {},
   "outputs": [],
   "source": [
    "# First ten rows and first five columns.\n",
    "credit.iloc[0:10, 0:5]"
   ]
  },
  {
   "cell_type": "markdown",
   "id": "0d6ff81c",
   "metadata": {},
   "source": [
    "Note the indexing here, where `0:5` represents the rows (or columns) indexed by 0 to 4 (not including 5). Thus `0:n` would include n elements and terminate with `n-1`."
   ]
  },
  {
   "cell_type": "markdown",
   "id": "0b1bd97d",
   "metadata": {},
   "source": [
    "**Exercise 3.2:** Create a code cell below and display the the third through the tenth (inclusive) rows of the `\"Limit\"` column using two different methods."
   ]
  },
  {
   "cell_type": "markdown",
   "id": "d2a25ec1",
   "metadata": {},
   "source": [
    "### 3.3 Filtering\n",
    "\n",
    "Finally, we may want to select elements of our data frame using conditions on the values in the table."
   ]
  },
  {
   "cell_type": "code",
   "execution_count": 27,
   "id": "b034ef2a",
   "metadata": {},
   "outputs": [
    {
     "data": {
      "text/html": [
       "<div>\n",
       "<style scoped>\n",
       "    .dataframe tbody tr th:only-of-type {\n",
       "        vertical-align: middle;\n",
       "    }\n",
       "\n",
       "    .dataframe tbody tr th {\n",
       "        vertical-align: top;\n",
       "    }\n",
       "\n",
       "    .dataframe thead th {\n",
       "        text-align: right;\n",
       "    }\n",
       "</style>\n",
       "<table border=\"1\" class=\"dataframe\">\n",
       "  <thead>\n",
       "    <tr style=\"text-align: right;\">\n",
       "      <th></th>\n",
       "      <th>Income</th>\n",
       "      <th>Limit</th>\n",
       "      <th>Rating</th>\n",
       "      <th>Cards</th>\n",
       "      <th>Age</th>\n",
       "      <th>Education</th>\n",
       "      <th>Gender</th>\n",
       "      <th>Student</th>\n",
       "      <th>Married</th>\n",
       "      <th>Ethnicity</th>\n",
       "      <th>Balance</th>\n",
       "    </tr>\n",
       "  </thead>\n",
       "  <tbody>\n",
       "    <tr>\n",
       "      <th>29</th>\n",
       "      <td>186.634</td>\n",
       "      <td>13414</td>\n",
       "      <td>949</td>\n",
       "      <td>2</td>\n",
       "      <td>41</td>\n",
       "      <td>14</td>\n",
       "      <td>Female</td>\n",
       "      <td>No</td>\n",
       "      <td>Yes</td>\n",
       "      <td>African American</td>\n",
       "      <td>1809</td>\n",
       "    </tr>\n",
       "    <tr>\n",
       "      <th>86</th>\n",
       "      <td>152.298</td>\n",
       "      <td>12066</td>\n",
       "      <td>828</td>\n",
       "      <td>4</td>\n",
       "      <td>41</td>\n",
       "      <td>12</td>\n",
       "      <td>Female</td>\n",
       "      <td>No</td>\n",
       "      <td>Yes</td>\n",
       "      <td>Asian</td>\n",
       "      <td>1779</td>\n",
       "    </tr>\n",
       "    <tr>\n",
       "      <th>140</th>\n",
       "      <td>107.841</td>\n",
       "      <td>10384</td>\n",
       "      <td>728</td>\n",
       "      <td>3</td>\n",
       "      <td>87</td>\n",
       "      <td>7</td>\n",
       "      <td>Male</td>\n",
       "      <td>No</td>\n",
       "      <td>No</td>\n",
       "      <td>African American</td>\n",
       "      <td>1597</td>\n",
       "    </tr>\n",
       "    <tr>\n",
       "      <th>175</th>\n",
       "      <td>121.834</td>\n",
       "      <td>10673</td>\n",
       "      <td>750</td>\n",
       "      <td>3</td>\n",
       "      <td>54</td>\n",
       "      <td>16</td>\n",
       "      <td>Male</td>\n",
       "      <td>No</td>\n",
       "      <td>No</td>\n",
       "      <td>African American</td>\n",
       "      <td>1573</td>\n",
       "    </tr>\n",
       "    <tr>\n",
       "      <th>185</th>\n",
       "      <td>158.889</td>\n",
       "      <td>11589</td>\n",
       "      <td>805</td>\n",
       "      <td>1</td>\n",
       "      <td>62</td>\n",
       "      <td>17</td>\n",
       "      <td>Female</td>\n",
       "      <td>No</td>\n",
       "      <td>Yes</td>\n",
       "      <td>Caucasian</td>\n",
       "      <td>1448</td>\n",
       "    </tr>\n",
       "    <tr>\n",
       "      <th>192</th>\n",
       "      <td>124.290</td>\n",
       "      <td>9560</td>\n",
       "      <td>701</td>\n",
       "      <td>3</td>\n",
       "      <td>52</td>\n",
       "      <td>17</td>\n",
       "      <td>Female</td>\n",
       "      <td>Yes</td>\n",
       "      <td>No</td>\n",
       "      <td>Asian</td>\n",
       "      <td>1687</td>\n",
       "    </tr>\n",
       "    <tr>\n",
       "      <th>194</th>\n",
       "      <td>130.209</td>\n",
       "      <td>10088</td>\n",
       "      <td>730</td>\n",
       "      <td>7</td>\n",
       "      <td>39</td>\n",
       "      <td>19</td>\n",
       "      <td>Female</td>\n",
       "      <td>No</td>\n",
       "      <td>Yes</td>\n",
       "      <td>Caucasian</td>\n",
       "      <td>1426</td>\n",
       "    </tr>\n",
       "    <tr>\n",
       "      <th>294</th>\n",
       "      <td>140.672</td>\n",
       "      <td>11200</td>\n",
       "      <td>817</td>\n",
       "      <td>7</td>\n",
       "      <td>46</td>\n",
       "      <td>9</td>\n",
       "      <td>Male</td>\n",
       "      <td>No</td>\n",
       "      <td>Yes</td>\n",
       "      <td>African American</td>\n",
       "      <td>1677</td>\n",
       "    </tr>\n",
       "    <tr>\n",
       "      <th>324</th>\n",
       "      <td>182.728</td>\n",
       "      <td>13913</td>\n",
       "      <td>982</td>\n",
       "      <td>4</td>\n",
       "      <td>98</td>\n",
       "      <td>17</td>\n",
       "      <td>Male</td>\n",
       "      <td>No</td>\n",
       "      <td>Yes</td>\n",
       "      <td>Caucasian</td>\n",
       "      <td>1999</td>\n",
       "    </tr>\n",
       "    <tr>\n",
       "      <th>327</th>\n",
       "      <td>125.480</td>\n",
       "      <td>10230</td>\n",
       "      <td>721</td>\n",
       "      <td>3</td>\n",
       "      <td>82</td>\n",
       "      <td>16</td>\n",
       "      <td>Male</td>\n",
       "      <td>No</td>\n",
       "      <td>Yes</td>\n",
       "      <td>Caucasian</td>\n",
       "      <td>1361</td>\n",
       "    </tr>\n",
       "    <tr>\n",
       "      <th>340</th>\n",
       "      <td>149.316</td>\n",
       "      <td>10278</td>\n",
       "      <td>707</td>\n",
       "      <td>1</td>\n",
       "      <td>80</td>\n",
       "      <td>16</td>\n",
       "      <td>Male</td>\n",
       "      <td>No</td>\n",
       "      <td>No</td>\n",
       "      <td>African American</td>\n",
       "      <td>1107</td>\n",
       "    </tr>\n",
       "    <tr>\n",
       "      <th>348</th>\n",
       "      <td>160.231</td>\n",
       "      <td>10748</td>\n",
       "      <td>754</td>\n",
       "      <td>2</td>\n",
       "      <td>69</td>\n",
       "      <td>17</td>\n",
       "      <td>Male</td>\n",
       "      <td>No</td>\n",
       "      <td>No</td>\n",
       "      <td>Caucasian</td>\n",
       "      <td>1192</td>\n",
       "    </tr>\n",
       "    <tr>\n",
       "      <th>356</th>\n",
       "      <td>180.682</td>\n",
       "      <td>11966</td>\n",
       "      <td>832</td>\n",
       "      <td>2</td>\n",
       "      <td>58</td>\n",
       "      <td>8</td>\n",
       "      <td>Female</td>\n",
       "      <td>No</td>\n",
       "      <td>Yes</td>\n",
       "      <td>African American</td>\n",
       "      <td>1405</td>\n",
       "    </tr>\n",
       "    <tr>\n",
       "      <th>391</th>\n",
       "      <td>135.118</td>\n",
       "      <td>10578</td>\n",
       "      <td>747</td>\n",
       "      <td>3</td>\n",
       "      <td>81</td>\n",
       "      <td>15</td>\n",
       "      <td>Female</td>\n",
       "      <td>No</td>\n",
       "      <td>Yes</td>\n",
       "      <td>Asian</td>\n",
       "      <td>1393</td>\n",
       "    </tr>\n",
       "  </tbody>\n",
       "</table>\n",
       "</div>"
      ],
      "text/plain": [
       "      Income  Limit  Rating  Cards  Age  Education  Gender Student Married  \\\n",
       "29   186.634  13414     949      2   41         14  Female      No     Yes   \n",
       "86   152.298  12066     828      4   41         12  Female      No     Yes   \n",
       "140  107.841  10384     728      3   87          7    Male      No      No   \n",
       "175  121.834  10673     750      3   54         16    Male      No      No   \n",
       "185  158.889  11589     805      1   62         17  Female      No     Yes   \n",
       "192  124.290   9560     701      3   52         17  Female     Yes      No   \n",
       "194  130.209  10088     730      7   39         19  Female      No     Yes   \n",
       "294  140.672  11200     817      7   46          9    Male      No     Yes   \n",
       "324  182.728  13913     982      4   98         17    Male      No     Yes   \n",
       "327  125.480  10230     721      3   82         16    Male      No     Yes   \n",
       "340  149.316  10278     707      1   80         16    Male      No      No   \n",
       "348  160.231  10748     754      2   69         17    Male      No      No   \n",
       "356  180.682  11966     832      2   58          8  Female      No     Yes   \n",
       "391  135.118  10578     747      3   81         15  Female      No     Yes   \n",
       "\n",
       "            Ethnicity  Balance  \n",
       "29   African American     1809  \n",
       "86              Asian     1779  \n",
       "140  African American     1597  \n",
       "175  African American     1573  \n",
       "185         Caucasian     1448  \n",
       "192             Asian     1687  \n",
       "194         Caucasian     1426  \n",
       "294  African American     1677  \n",
       "324         Caucasian     1999  \n",
       "327         Caucasian     1361  \n",
       "340  African American     1107  \n",
       "348         Caucasian     1192  \n",
       "356  African American     1405  \n",
       "391             Asian     1393  "
      ]
     },
     "execution_count": 27,
     "metadata": {},
     "output_type": "execute_result"
    }
   ],
   "source": [
    "# Find the individuals with credit rating over 700.\n",
    "credit[credit.Rating >= 700]"
   ]
  },
  {
   "cell_type": "markdown",
   "id": "d3d8844f",
   "metadata": {},
   "source": [
    "What is really going on here? The conditions are actually `Series` objects themselves, but just `boolean` lists indicating whether or not the condition is satisfied for each row. Take a look at the original data frame."
   ]
  },
  {
   "cell_type": "code",
   "execution_count": 11,
   "id": "f6480236",
   "metadata": {},
   "outputs": [
    {
     "data": {
      "text/html": [
       "<div>\n",
       "<style scoped>\n",
       "    .dataframe tbody tr th:only-of-type {\n",
       "        vertical-align: middle;\n",
       "    }\n",
       "\n",
       "    .dataframe tbody tr th {\n",
       "        vertical-align: top;\n",
       "    }\n",
       "\n",
       "    .dataframe thead th {\n",
       "        text-align: right;\n",
       "    }\n",
       "</style>\n",
       "<table border=\"1\" class=\"dataframe\">\n",
       "  <thead>\n",
       "    <tr style=\"text-align: right;\">\n",
       "      <th></th>\n",
       "      <th>Income</th>\n",
       "      <th>Limit</th>\n",
       "      <th>Rating</th>\n",
       "      <th>Cards</th>\n",
       "      <th>Age</th>\n",
       "      <th>Education</th>\n",
       "      <th>Gender</th>\n",
       "      <th>Student</th>\n",
       "      <th>Married</th>\n",
       "      <th>Ethnicity</th>\n",
       "      <th>Balance</th>\n",
       "    </tr>\n",
       "  </thead>\n",
       "  <tbody>\n",
       "    <tr>\n",
       "      <th>1</th>\n",
       "      <td>14.891</td>\n",
       "      <td>3606</td>\n",
       "      <td>283</td>\n",
       "      <td>2</td>\n",
       "      <td>34</td>\n",
       "      <td>11</td>\n",
       "      <td>Male</td>\n",
       "      <td>No</td>\n",
       "      <td>Yes</td>\n",
       "      <td>Caucasian</td>\n",
       "      <td>333</td>\n",
       "    </tr>\n",
       "    <tr>\n",
       "      <th>2</th>\n",
       "      <td>106.025</td>\n",
       "      <td>6645</td>\n",
       "      <td>483</td>\n",
       "      <td>3</td>\n",
       "      <td>82</td>\n",
       "      <td>15</td>\n",
       "      <td>Female</td>\n",
       "      <td>Yes</td>\n",
       "      <td>Yes</td>\n",
       "      <td>Asian</td>\n",
       "      <td>903</td>\n",
       "    </tr>\n",
       "    <tr>\n",
       "      <th>3</th>\n",
       "      <td>104.593</td>\n",
       "      <td>7075</td>\n",
       "      <td>514</td>\n",
       "      <td>4</td>\n",
       "      <td>71</td>\n",
       "      <td>11</td>\n",
       "      <td>Male</td>\n",
       "      <td>No</td>\n",
       "      <td>No</td>\n",
       "      <td>Asian</td>\n",
       "      <td>580</td>\n",
       "    </tr>\n",
       "    <tr>\n",
       "      <th>4</th>\n",
       "      <td>148.924</td>\n",
       "      <td>9504</td>\n",
       "      <td>681</td>\n",
       "      <td>3</td>\n",
       "      <td>36</td>\n",
       "      <td>11</td>\n",
       "      <td>Female</td>\n",
       "      <td>No</td>\n",
       "      <td>No</td>\n",
       "      <td>Asian</td>\n",
       "      <td>964</td>\n",
       "    </tr>\n",
       "    <tr>\n",
       "      <th>5</th>\n",
       "      <td>55.882</td>\n",
       "      <td>4897</td>\n",
       "      <td>357</td>\n",
       "      <td>2</td>\n",
       "      <td>68</td>\n",
       "      <td>16</td>\n",
       "      <td>Male</td>\n",
       "      <td>No</td>\n",
       "      <td>Yes</td>\n",
       "      <td>Caucasian</td>\n",
       "      <td>331</td>\n",
       "    </tr>\n",
       "  </tbody>\n",
       "</table>\n",
       "</div>"
      ],
      "text/plain": [
       "    Income  Limit  Rating  Cards  Age  Education  Gender Student Married  \\\n",
       "1   14.891   3606     283      2   34         11    Male      No     Yes   \n",
       "2  106.025   6645     483      3   82         15  Female     Yes     Yes   \n",
       "3  104.593   7075     514      4   71         11    Male      No      No   \n",
       "4  148.924   9504     681      3   36         11  Female      No      No   \n",
       "5   55.882   4897     357      2   68         16    Male      No     Yes   \n",
       "\n",
       "   Ethnicity  Balance  \n",
       "1  Caucasian      333  \n",
       "2      Asian      903  \n",
       "3      Asian      580  \n",
       "4      Asian      964  \n",
       "5  Caucasian      331  "
      ]
     },
     "execution_count": 11,
     "metadata": {},
     "output_type": "execute_result"
    }
   ],
   "source": [
    "credit.head()"
   ]
  },
  {
   "cell_type": "code",
   "execution_count": 12,
   "id": "43cd0f64",
   "metadata": {},
   "outputs": [
    {
     "name": "stdout",
     "output_type": "stream",
     "text": [
      "<class 'pandas.core.series.Series'>\n"
     ]
    },
    {
     "data": {
      "text/plain": [
       "1     True\n",
       "2    False\n",
       "3    False\n",
       "4    False\n",
       "5     True\n",
       "Name: Cards, dtype: bool"
      ]
     },
     "execution_count": 12,
     "metadata": {},
     "output_type": "execute_result"
    }
   ],
   "source": [
    "condition = (credit.Cards == 2)\n",
    "\n",
    "print(type(condition))\n",
    "condition.head() # prints first five rows."
   ]
  },
  {
   "cell_type": "markdown",
   "id": "c505472a",
   "metadata": {},
   "source": [
    "**Exercise 3.3:** Find the average incomes for both students and non-students in the dataset."
   ]
  },
  {
   "cell_type": "code",
   "execution_count": null,
   "id": "4f92ba5d",
   "metadata": {},
   "outputs": [],
   "source": [
    "#Input code here...\n",
    "\n"
   ]
  },
  {
   "cell_type": "markdown",
   "id": "7f0ec341",
   "metadata": {},
   "source": [
    "You can also combine multiple conditions using the `&` (and) and `|` (or) operators. Make sure to put the conditions in parantheses, because logical operators are evaluated before comparison operators like `>`, `<` and `==`."
   ]
  },
  {
   "cell_type": "code",
   "execution_count": 5,
   "id": "2f21ae9b",
   "metadata": {},
   "outputs": [
    {
     "data": {
      "text/html": [
       "<div>\n",
       "<style scoped>\n",
       "    .dataframe tbody tr th:only-of-type {\n",
       "        vertical-align: middle;\n",
       "    }\n",
       "\n",
       "    .dataframe tbody tr th {\n",
       "        vertical-align: top;\n",
       "    }\n",
       "\n",
       "    .dataframe thead th {\n",
       "        text-align: right;\n",
       "    }\n",
       "</style>\n",
       "<table border=\"1\" class=\"dataframe\">\n",
       "  <thead>\n",
       "    <tr style=\"text-align: right;\">\n",
       "      <th></th>\n",
       "      <th>Income</th>\n",
       "      <th>Limit</th>\n",
       "      <th>Rating</th>\n",
       "      <th>Cards</th>\n",
       "      <th>Age</th>\n",
       "      <th>Education</th>\n",
       "      <th>Gender</th>\n",
       "      <th>Student</th>\n",
       "      <th>Married</th>\n",
       "      <th>Ethnicity</th>\n",
       "      <th>Balance</th>\n",
       "    </tr>\n",
       "  </thead>\n",
       "  <tbody>\n",
       "    <tr>\n",
       "      <th>1</th>\n",
       "      <td>14.891</td>\n",
       "      <td>3606</td>\n",
       "      <td>283</td>\n",
       "      <td>2</td>\n",
       "      <td>34</td>\n",
       "      <td>11</td>\n",
       "      <td>Male</td>\n",
       "      <td>No</td>\n",
       "      <td>Yes</td>\n",
       "      <td>Caucasian</td>\n",
       "      <td>333</td>\n",
       "    </tr>\n",
       "    <tr>\n",
       "      <th>2</th>\n",
       "      <td>106.025</td>\n",
       "      <td>6645</td>\n",
       "      <td>483</td>\n",
       "      <td>3</td>\n",
       "      <td>82</td>\n",
       "      <td>15</td>\n",
       "      <td>Female</td>\n",
       "      <td>Yes</td>\n",
       "      <td>Yes</td>\n",
       "      <td>Asian</td>\n",
       "      <td>903</td>\n",
       "    </tr>\n",
       "    <tr>\n",
       "      <th>5</th>\n",
       "      <td>55.882</td>\n",
       "      <td>4897</td>\n",
       "      <td>357</td>\n",
       "      <td>2</td>\n",
       "      <td>68</td>\n",
       "      <td>16</td>\n",
       "      <td>Male</td>\n",
       "      <td>No</td>\n",
       "      <td>Yes</td>\n",
       "      <td>Caucasian</td>\n",
       "      <td>331</td>\n",
       "    </tr>\n",
       "    <tr>\n",
       "      <th>10</th>\n",
       "      <td>71.061</td>\n",
       "      <td>6819</td>\n",
       "      <td>491</td>\n",
       "      <td>3</td>\n",
       "      <td>41</td>\n",
       "      <td>19</td>\n",
       "      <td>Female</td>\n",
       "      <td>Yes</td>\n",
       "      <td>Yes</td>\n",
       "      <td>African American</td>\n",
       "      <td>1350</td>\n",
       "    </tr>\n",
       "    <tr>\n",
       "      <th>11</th>\n",
       "      <td>63.095</td>\n",
       "      <td>8117</td>\n",
       "      <td>589</td>\n",
       "      <td>4</td>\n",
       "      <td>30</td>\n",
       "      <td>14</td>\n",
       "      <td>Male</td>\n",
       "      <td>No</td>\n",
       "      <td>Yes</td>\n",
       "      <td>Caucasian</td>\n",
       "      <td>1407</td>\n",
       "    </tr>\n",
       "    <tr>\n",
       "      <th>...</th>\n",
       "      <td>...</td>\n",
       "      <td>...</td>\n",
       "      <td>...</td>\n",
       "      <td>...</td>\n",
       "      <td>...</td>\n",
       "      <td>...</td>\n",
       "      <td>...</td>\n",
       "      <td>...</td>\n",
       "      <td>...</td>\n",
       "      <td>...</td>\n",
       "      <td>...</td>\n",
       "    </tr>\n",
       "    <tr>\n",
       "      <th>382</th>\n",
       "      <td>101.788</td>\n",
       "      <td>8029</td>\n",
       "      <td>574</td>\n",
       "      <td>2</td>\n",
       "      <td>84</td>\n",
       "      <td>11</td>\n",
       "      <td>Male</td>\n",
       "      <td>No</td>\n",
       "      <td>Yes</td>\n",
       "      <td>Caucasian</td>\n",
       "      <td>849</td>\n",
       "    </tr>\n",
       "    <tr>\n",
       "      <th>384</th>\n",
       "      <td>14.292</td>\n",
       "      <td>3274</td>\n",
       "      <td>282</td>\n",
       "      <td>9</td>\n",
       "      <td>64</td>\n",
       "      <td>9</td>\n",
       "      <td>Male</td>\n",
       "      <td>No</td>\n",
       "      <td>Yes</td>\n",
       "      <td>Caucasian</td>\n",
       "      <td>382</td>\n",
       "    </tr>\n",
       "    <tr>\n",
       "      <th>396</th>\n",
       "      <td>12.096</td>\n",
       "      <td>4100</td>\n",
       "      <td>307</td>\n",
       "      <td>3</td>\n",
       "      <td>32</td>\n",
       "      <td>13</td>\n",
       "      <td>Male</td>\n",
       "      <td>No</td>\n",
       "      <td>Yes</td>\n",
       "      <td>Caucasian</td>\n",
       "      <td>560</td>\n",
       "    </tr>\n",
       "    <tr>\n",
       "      <th>398</th>\n",
       "      <td>57.872</td>\n",
       "      <td>4171</td>\n",
       "      <td>321</td>\n",
       "      <td>5</td>\n",
       "      <td>67</td>\n",
       "      <td>12</td>\n",
       "      <td>Female</td>\n",
       "      <td>No</td>\n",
       "      <td>Yes</td>\n",
       "      <td>Caucasian</td>\n",
       "      <td>138</td>\n",
       "    </tr>\n",
       "    <tr>\n",
       "      <th>399</th>\n",
       "      <td>37.728</td>\n",
       "      <td>2525</td>\n",
       "      <td>192</td>\n",
       "      <td>1</td>\n",
       "      <td>44</td>\n",
       "      <td>13</td>\n",
       "      <td>Male</td>\n",
       "      <td>No</td>\n",
       "      <td>Yes</td>\n",
       "      <td>Caucasian</td>\n",
       "      <td>0</td>\n",
       "    </tr>\n",
       "  </tbody>\n",
       "</table>\n",
       "<p>236 rows × 11 columns</p>\n",
       "</div>"
      ],
      "text/plain": [
       "      Income  Limit  Rating  Cards  Age  Education  Gender Student Married  \\\n",
       "1     14.891   3606     283      2   34         11    Male      No     Yes   \n",
       "2    106.025   6645     483      3   82         15  Female     Yes     Yes   \n",
       "5     55.882   4897     357      2   68         16    Male      No     Yes   \n",
       "10    71.061   6819     491      3   41         19  Female     Yes     Yes   \n",
       "11    63.095   8117     589      4   30         14    Male      No     Yes   \n",
       "..       ...    ...     ...    ...  ...        ...     ...     ...     ...   \n",
       "382  101.788   8029     574      2   84         11    Male      No     Yes   \n",
       "384   14.292   3274     282      9   64          9    Male      No     Yes   \n",
       "396   12.096   4100     307      3   32         13    Male      No     Yes   \n",
       "398   57.872   4171     321      5   67         12  Female      No     Yes   \n",
       "399   37.728   2525     192      1   44         13    Male      No     Yes   \n",
       "\n",
       "            Ethnicity  Balance  \n",
       "1           Caucasian      333  \n",
       "2               Asian      903  \n",
       "5           Caucasian      331  \n",
       "10   African American     1350  \n",
       "11          Caucasian     1407  \n",
       "..                ...      ...  \n",
       "382         Caucasian      849  \n",
       "384         Caucasian      382  \n",
       "396         Caucasian      560  \n",
       "398         Caucasian      138  \n",
       "399         Caucasian        0  \n",
       "\n",
       "[236 rows x 11 columns]"
      ]
     },
     "execution_count": 5,
     "metadata": {},
     "output_type": "execute_result"
    }
   ],
   "source": [
    "# Find the married individuals with a limit less than 10k.\n",
    "credit[(credit.Married == \"Yes\") & (credit.Limit < 10000)]"
   ]
  },
  {
   "cell_type": "markdown",
   "id": "b10596ae",
   "metadata": {},
   "source": [
    "**Exercise 3.4:** Find the individuals who are not between 30 and 60 years old."
   ]
  },
  {
   "cell_type": "markdown",
   "id": "2c99f4ff",
   "metadata": {},
   "source": [
    "## 4. sklearn example\n",
    "\n",
    "Many libraries, such as `sklearn` used on the first assignment, can be used with pandas data objects. \n",
    "\n",
    "For example, we can attempt to predict an individuals credit score as a function of their income and age. "
   ]
  },
  {
   "cell_type": "code",
   "execution_count": 14,
   "id": "df0275d5",
   "metadata": {},
   "outputs": [
    {
     "name": "stdout",
     "output_type": "stream",
     "text": [
      "214.8992153242633 3.5024550562410477 -0.32939017793318826\n"
     ]
    }
   ],
   "source": [
    "from sklearn import linear_model\n",
    "\n",
    "y=credit.Rating\n",
    "X=credit[['Income','Age']]\n",
    "\n",
    "credit_model=linear_model.LinearRegression().fit(X, y)\n",
    "print(credit_model.intercept_, credit_model.coef_[0], credit_model.coef_[1])"
   ]
  },
  {
   "cell_type": "markdown",
   "id": "e4586c43",
   "metadata": {},
   "source": [
    "This indicates that our best estimate of someone's credit score follows the function \n",
    "\n",
    "$$\\hat{score}=214.9+3.5\\times income - 0.33\\times age.$$\n",
    "\n",
    "(Note that income is not measured in dollars)\n",
    "\n",
    "You can find more about the `linear_model` function needed for your assignment in the documentation: \n",
    "- https://scikit-learn.org/stable/modules/generated/sklearn.linear_model.LinearRegression.html."
   ]
  },
  {
   "cell_type": "markdown",
   "id": "6067f58b",
   "metadata": {},
   "source": [
    "## 5. Resources\n",
    "\n",
    "If you would like to get a deeper introduction to all of the tools used in data science, I highly recommend [Python for Data Analysis](https://bedford-computing.co.uk/learning/wp-content/uploads/2015/10/Python-for-Data-Analysis.pdf), which is written by the creator of `pandas` himself. Additionally, make sure to look at the \"Training a Model\" demo under Lecture 2 on the Schedule and Notes pages so you are able to do Homework 1."
   ]
  }
 ],
 "metadata": {
  "kernelspec": {
   "display_name": "Python 3 (ipykernel)",
   "language": "python",
   "name": "python3"
  },
  "language_info": {
   "codemirror_mode": {
    "name": "ipython",
    "version": 3
   },
   "file_extension": ".py",
   "mimetype": "text/x-python",
   "name": "python",
   "nbconvert_exporter": "python",
   "pygments_lexer": "ipython3",
   "version": "3.8.8"
  }
 },
 "nbformat": 4,
 "nbformat_minor": 5
}
