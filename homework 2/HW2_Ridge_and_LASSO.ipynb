{
 "cells": [
  {
   "cell_type": "markdown",
   "metadata": {},
   "source": [
    "# Assignment 2 - Ridge and LASSO Regression\n",
    "\n",
    "In this assignment we'll look at the affect of using regularization on linear regression models that we train. You will write code to train models that use different regularizers and different penalties and to analyze how this affects the model.\n",
    "\n",
    "\n",
    "Fill in the cells provided marked `TODO` with code to answer the questions. Answers should do the computation stated rather than writing in hard-coded values. So for example, if a problem asks you to compute the average age of people in a dataset, you should be writing Python code in this notebook to do the computation instead of plugging it into some calculator and saving the hard-coded answer in the variable. In other words, we should be able to run your code on a smaller/larger dataset and get correct answers for those datasets with your code.\n",
    "\n",
    "Note, you are not allowed to share any portions of this notebook outside of this class.\n",
    "\n",
    "> Copyright ©2021 Emily Fox and Hunter Schafer.  All rights reserved.  Permission is hereby granted to students registered for University of Washington CSE/STAT 416 for use solely during Spring Quarter 2021 for purposes of the course.  No other use, copying, distribution, or modification is permitted without prior written consent. Copyrights for third-party components of this work must be honored.  Instructors interested in reusing these course materials should contact the author.\n",
    "\n",
    "---"
   ]
  },
  {
   "cell_type": "markdown",
   "metadata": {},
   "source": [
    "## Important Gradescope Submission Guidelines:\n",
    "-\tDo not rename the notebook. Just fill in your code and submit this notebook.\n",
    "-   Remove the google.colab import lines if you used Colab. Do not modify the path from the default one for the dataset.\n",
    "-   Comment out all the print() lines before submission. Program generated print outputs will affect autograder and you will not have autograder scores. But you can run the print() lines while doing this assignment.\n"
   ]
  },
  {
   "cell_type": "code",
   "execution_count": 58,
   "metadata": {},
   "outputs": [],
   "source": [
    "# use this to hide ConvergenceWarning\n",
    "# this is dangerous though; only hide warnings at the end to make a nicer-looking notebook\n",
    "\n",
    "# import warnings \n",
    "# warnings.filterwarnings('ignore')"
   ]
  },
  {
   "cell_type": "code",
   "execution_count": 70,
   "metadata": {},
   "outputs": [],
   "source": [
    "# Conventionally people rename these common imports for brevity\n",
    "import pandas as pd\n",
    "import numpy as np\n",
    "import matplotlib.pyplot as plt\n",
    "\n",
    "# Magic command to make the plots appear in-line (it's actually called a \"magic command\")\n",
    "%matplotlib inline\n",
    "\n",
    "# Set seed for the whole program\n",
    "np.random.seed(416)"
   ]
  },
  {
   "cell_type": "markdown",
   "metadata": {},
   "source": [
    "For this assignment, we will only be using a very small subset of the data to do our analysis. This is not something you would usually do in practice, but is something we do for this assignment to simplify this complexity of this dataset. The data is pretty noisy and to get meaningful results to demonstrate the theoretical behavior, you would need to use a much more complicated set of features that would be a bit more tedious to work with."
   ]
  },
  {
   "cell_type": "markdown",
   "metadata": {},
   "source": [
    "*If you are using Colab, you need extra lines to read in data here.*\n",
    "\n",
    "**But please remove or comment out the extra lines for Google drive if you use Colab, and the next chunk should be left unchanged. Autograder will fail otherwise.**"
   ]
  },
  {
   "cell_type": "code",
   "execution_count": 71,
   "metadata": {},
   "outputs": [],
   "source": [
    "sales = pd.read_csv('home_data.csv') \n",
    "\n",
    "# Selects 1% of the data\n",
    "sales = sales.sample(frac=0.01) \n",
    "\n",
    "# print(f'Number of points: {len(sales)}')\n",
    "# sales.head()"
   ]
  },
  {
   "cell_type": "markdown",
   "metadata": {},
   "source": [
    "## Q1 - Feature Engineering\n",
    "First, we do a bit of feature engineering by creating features that represent the squares of each feature and the square root of each feature. One benefit of using regularization is you can include more features than necessary and you don't have to be as worried about overfitting since the model is regularized.\n",
    "\n",
    "In the following cell, complete the code inside the loop to compute the square of each feature the the square root of each feature.\n",
    "\n",
    "*Note: For this problem, we will make the correctness autograder test public to help avoid downstream issues.*"
   ]
  },
  {
   "cell_type": "code",
   "execution_count": 72,
   "metadata": {},
   "outputs": [],
   "source": [
    "# All of the features of interest\n",
    "selected_inputs = [\n",
    "    'bedrooms', \n",
    "    'bathrooms',\n",
    "    'sqft_living', \n",
    "    'sqft_lot', \n",
    "    'floors', \n",
    "    'waterfront', \n",
    "    'view', \n",
    "    'condition', \n",
    "    'grade',\n",
    "    'sqft_above',\n",
    "    'sqft_basement',\n",
    "    'yr_built', \n",
    "    'yr_renovated'\n",
    "]\n",
    "\n",
    "# Compute the square and sqrt of each feature\n",
    "all_features = []\n",
    "for data_input in selected_inputs:\n",
    "    square_feat = data_input + '_square'\n",
    "    sqrt_feat = data_input + '_sqrt'\n",
    "    \n",
    "    sales[sqrt_feat] = np.sqrt(sales[data_input])\n",
    "    sales[square_feat] = sales[data_input]**2\n",
    "\n",
    "    all_features.extend([data_input, square_feat, sqrt_feat])\n",
    "    \n",
    "# Split the data into features and price\n",
    "price = sales['price']\n",
    "sales = sales[all_features]"
   ]
  },
  {
   "cell_type": "markdown",
   "metadata": {},
   "source": [
    "## Split Data\n",
    "Next, we need to split our data into our train, validation, and test data. To do this, we will use [train_test_split](https://scikit-learn.org/stable/modules/generated/sklearn.model_selection.train_test_split.html) function to split up the dataset. For this assignment we will use 70% of the data to train, 10% for validation, and 20% to test. \n",
    "\n",
    "For this programming assignment, we DO NOT consider the test set an actual test set, but rather another validation one. However, to make the terminologies more simple, we just use this term."
   ]
  },
  {
   "cell_type": "code",
   "execution_count": 73,
   "metadata": {},
   "outputs": [],
   "source": [
    "from sklearn.model_selection import train_test_split\n",
    "\n",
    "train_and_validation_sales, test_sales, train_and_validation_price, test_price = \\\n",
    "    train_test_split(sales, price, test_size=0.2)\n",
    "train_sales, validation_sales, train_price, validation_price = \\\n",
    "    train_test_split(train_and_validation_sales, train_and_validation_price, test_size=.125) # .10 (validation) of .80 (train + validation)"
   ]
  },
  {
   "cell_type": "markdown",
   "metadata": {},
   "source": [
    "## Q2 - Standardization"
   ]
  },
  {
   "cell_type": "markdown",
   "metadata": {},
   "source": [
    "We first need to do a little bit more pre-processing to prepare the data for model training. Models like Ridge and LASSO assume the input features are standardized (mean 0, std. dev. 1) and the target values are centered (mean 0). If we do not do this, we might get some unpredictable results since we violate the assumption of the models!\n",
    "\n",
    "So in the next cell, you should standardize the data in train, validation, and test using the following instructions:\n",
    "* Use the [StandardScaler](https://scikit-learn.org/stable/modules/preprocessing.html#standardization-or-mean-removal-and-variance-scaling) preprocessor provided by scikit-learn to do the standardization for you. \n",
    "  * Note that you first `fit` it to the data so it can compute the mean/standard deviation and then `transform` to actually change the data. You'll find the examples on this documentation very helpful.\n",
    "* You should only do this transformation on the features we are using of the data (not any of the other data inputs or the target values). \n",
    "* This next note will sound a bit weird, but it's an important step. **You should only do the standardization calculation (e.g., the mean and the standard deviation) on the *training* set and use those statistics to scale the validation and test set**. In other words, the validation and test set should be standardized using the statistics from the training data so that you are using a consistent transformation throughout. This is important to do since you need to apply the same transformation process to every step of the data and you shouldn't use statistics from data outside of your training set in your transformations.\n",
    "\n",
    "\n",
    "**Store the transformed results in `train_sales`, `validation_sales`, `test_sales` respectively (thus overwriting your old, unscaled feature).**\n",
    "\n",
    "*Note: For this problem, we will make the correctness autograder test public to help avoid downstream issues.*"
   ]
  },
  {
   "cell_type": "code",
   "execution_count": 74,
   "metadata": {},
   "outputs": [],
   "source": [
    "# TODO preprocess the training, validation, and test data\n",
    "\n",
    "from sklearn.preprocessing import StandardScaler\n",
    "\n",
    "scaler = StandardScaler().fit(train_sales)\n",
    "train_sales = pd.DataFrame(scaler.transform(train_sales), columns = train_sales.columns)\n",
    "validation_sales = pd.DataFrame(scaler.transform(validation_sales), columns = validation_sales.columns)\n",
    "test_sales = pd.DataFrame(scaler.transform(test_sales), columns = test_sales.columns)"
   ]
  },
  {
   "cell_type": "markdown",
   "metadata": {},
   "source": [
    "# Linear Regression \n",
    "## Q3) Linear Regression Baseline\n",
    "\n",
    "As a baseline, we will first, train a regular `LinearRegression` model on the data using the features in `all_features` and report its **test RMSE**. Write the code in the cell below to calculate the answer. Save your result in a variable named `test_rmse_unregularized`.\n"
   ]
  },
  {
   "cell_type": "code",
   "execution_count": 75,
   "metadata": {},
   "outputs": [
    {
     "data": {
      "text/plain": [
       "215279.94161320734"
      ]
     },
     "execution_count": 75,
     "metadata": {},
     "output_type": "execute_result"
    }
   ],
   "source": [
    "from sklearn.linear_model import LinearRegression\n",
    "from sklearn.metrics import mean_squared_error\n",
    "\n",
    "unregularized_model = LinearRegression().fit(train_sales, train_price)\n",
    "predicted_test_unregularized = unregularized_model.predict(test_sales)\n",
    "test_rmse_unregularized = mean_squared_error(predicted_test_unregularized, test_price, squared=False)"
   ]
  },
  {
   "cell_type": "markdown",
   "metadata": {},
   "source": [
    "--- \n",
    "# Ridge Regression\n",
    "At this point, you might be looking forward at the homework and seeing how long it is! We want to provide a lot of instruction so you aren't left completely in the dark on what to do, but we are also trying to avoid just giving you a bunch of starter code and just having you fill in the blanks. This section is very long because it tries to give really detailed instructions on what to compute. The next section on LASSO has almost exactly the same steps so it will be a lot easier doing that part of the assignment!\n",
    "\n",
    "In this section, we will do some **hyper-parameter tuning** to find the optimal setting of the regularization constant $\\lambda$ for Ridge Regression. Remember that $\\lambda$ is the coefficient that controls how much the model is penalized for having large weights in the optimization function.\n",
    "\n",
    "$$\\hat{w}_{ridge} = \\min_w MSE(w) + \\lambda \\left\\lVert w \\right\\rVert_2^2$$\n",
    "\n",
    "where $\\left\\lVert w \\right\\rVert_2^2 = \\sum_{j=0}^D w_j^2$ is the $l_2$-norm of the parameters. By default, `sklearn`'s `Ridge` class does not regularize the intercept.\n",
    "\n",
    "## Q4) Train Ridge Models\n",
    "For this part of the assignment, you will be writing code to find the optimal setting of the penalty $\\lambda$. Below, we describe what steps you will want to have in your code to compute these values:\n",
    "\n",
    "*Implementation Details*\n",
    "* Use the following choices of $l_2$ penalty: $[10^{-5}, 10^{-4}, ..., 10^4, 10^5]$. In Python, you can create a list of these numbers using `np.logspace(-5, 5, 11, base=10)`. \n",
    "* Use the [Ridge](https://scikit-learn.org/stable/modules/generated/sklearn.linear_model.Ridge.html#sklearn.linear_model.Ridge) class from sklearn to train a Ridge Regression model on the **training** data. The **only** parameters you need to pass when constructing the Ridge model are $\\lambda$, which lets you specify what you want the $l_2$ penalty to be.\n",
    "* Evaluate both the training error and the validation error for the model by reporting the RMSE of each dataset.\n",
    "* **Put all of your results in a pandas `DataFrame` named `ridge_data`** so you can analyze them later. The `ridge_data` should have a row for each $l_2$ penalty you tried and should have the following columns:\n",
    "  * `l2_penalty`: The $l_2$ penalty for that row\n",
    "  * `model`: The actual `Ridge` model object that was trained with that $l_2$ penalty\n",
    "  * `train_rmse`: The training RMSE for that model\n",
    "  * `validation_rmse`: The validation RMSE for that model\n",
    "* To build up this `DataFrame`, we recommend first building up a list of dictionary objects and then converting that to a `DataFrame`. For example, the following code would produce the following `pandas.DataFrame`.\n",
    "```python\n",
    "data = []\n",
    "for i in range(3):\n",
    "    data.append({\n",
    "        'col_a': i,\n",
    "        'col_b': 2 * i\n",
    "    }\n",
    "data_frame = pd.DataFrame(data)\n",
    "```\n",
    "\n",
    "| col_a | col_b | \n",
    "|-------|-------|\n",
    "|   0   |   0   | \n",
    "|   1   |   2   | \n",
    "|   2   |   4   |\n",
    "\n",
    "*Hints: Here is a development strategy that you might find helpful*\n",
    "* You will need a loop to loop over the possible $l_2$ penalties. Try writing the code without a loop first with just one setting of $\\lambda$. Try writing a lot of the code without a loop first if you're stuck to help you figure out how the pieces go together. You can safely ignore building up the result `DataFrame` at first, just print all the information out to start! \n",
    "* If you are running into troubles writing your loop, try to print values out to investigate what's going wrong.\n",
    "* Remember to use RMSE for calculating the error!\n"
   ]
  },
  {
   "cell_type": "code",
   "execution_count": 76,
   "metadata": {},
   "outputs": [
    {
     "data": {
      "text/html": [
       "<div>\n",
       "<style scoped>\n",
       "    .dataframe tbody tr th:only-of-type {\n",
       "        vertical-align: middle;\n",
       "    }\n",
       "\n",
       "    .dataframe tbody tr th {\n",
       "        vertical-align: top;\n",
       "    }\n",
       "\n",
       "    .dataframe thead th {\n",
       "        text-align: right;\n",
       "    }\n",
       "</style>\n",
       "<table border=\"1\" class=\"dataframe\">\n",
       "  <thead>\n",
       "    <tr style=\"text-align: right;\">\n",
       "      <th></th>\n",
       "      <th>l2_penalty</th>\n",
       "      <th>model</th>\n",
       "      <th>train_rmse</th>\n",
       "      <th>validation_rmse</th>\n",
       "    </tr>\n",
       "  </thead>\n",
       "  <tbody>\n",
       "    <tr>\n",
       "      <th>0</th>\n",
       "      <td>0.00001</td>\n",
       "      <td>Ridge(alpha=1e-05)</td>\n",
       "      <td>151540.496659</td>\n",
       "      <td>299742.565697</td>\n",
       "    </tr>\n",
       "    <tr>\n",
       "      <th>1</th>\n",
       "      <td>0.00010</td>\n",
       "      <td>Ridge(alpha=0.0001)</td>\n",
       "      <td>151565.593742</td>\n",
       "      <td>295481.716555</td>\n",
       "    </tr>\n",
       "    <tr>\n",
       "      <th>2</th>\n",
       "      <td>0.00100</td>\n",
       "      <td>Ridge(alpha=0.001)</td>\n",
       "      <td>152245.797090</td>\n",
       "      <td>270660.488882</td>\n",
       "    </tr>\n",
       "    <tr>\n",
       "      <th>3</th>\n",
       "      <td>0.01000</td>\n",
       "      <td>Ridge(alpha=0.01)</td>\n",
       "      <td>156539.605160</td>\n",
       "      <td>238965.680239</td>\n",
       "    </tr>\n",
       "    <tr>\n",
       "      <th>4</th>\n",
       "      <td>0.10000</td>\n",
       "      <td>Ridge(alpha=0.1)</td>\n",
       "      <td>161637.771709</td>\n",
       "      <td>234128.103568</td>\n",
       "    </tr>\n",
       "    <tr>\n",
       "      <th>5</th>\n",
       "      <td>1.00000</td>\n",
       "      <td>Ridge()</td>\n",
       "      <td>165912.285693</td>\n",
       "      <td>226487.300631</td>\n",
       "    </tr>\n",
       "    <tr>\n",
       "      <th>6</th>\n",
       "      <td>10.00000</td>\n",
       "      <td>Ridge(alpha=10.0)</td>\n",
       "      <td>171929.673368</td>\n",
       "      <td>191065.079973</td>\n",
       "    </tr>\n",
       "    <tr>\n",
       "      <th>7</th>\n",
       "      <td>100.00000</td>\n",
       "      <td>Ridge(alpha=100.0)</td>\n",
       "      <td>184175.691646</td>\n",
       "      <td>130297.075109</td>\n",
       "    </tr>\n",
       "    <tr>\n",
       "      <th>8</th>\n",
       "      <td>1000.00000</td>\n",
       "      <td>Ridge(alpha=1000.0)</td>\n",
       "      <td>235166.764993</td>\n",
       "      <td>135972.694084</td>\n",
       "    </tr>\n",
       "    <tr>\n",
       "      <th>9</th>\n",
       "      <td>10000.00000</td>\n",
       "      <td>Ridge(alpha=10000.0)</td>\n",
       "      <td>312561.473713</td>\n",
       "      <td>229275.422002</td>\n",
       "    </tr>\n",
       "    <tr>\n",
       "      <th>10</th>\n",
       "      <td>100000.00000</td>\n",
       "      <td>Ridge(alpha=100000.0)</td>\n",
       "      <td>337020.164314</td>\n",
       "      <td>260486.387668</td>\n",
       "    </tr>\n",
       "  </tbody>\n",
       "</table>\n",
       "</div>"
      ],
      "text/plain": [
       "      l2_penalty                  model     train_rmse  validation_rmse\n",
       "0        0.00001     Ridge(alpha=1e-05)  151540.496659    299742.565697\n",
       "1        0.00010    Ridge(alpha=0.0001)  151565.593742    295481.716555\n",
       "2        0.00100     Ridge(alpha=0.001)  152245.797090    270660.488882\n",
       "3        0.01000      Ridge(alpha=0.01)  156539.605160    238965.680239\n",
       "4        0.10000       Ridge(alpha=0.1)  161637.771709    234128.103568\n",
       "5        1.00000                Ridge()  165912.285693    226487.300631\n",
       "6       10.00000      Ridge(alpha=10.0)  171929.673368    191065.079973\n",
       "7      100.00000     Ridge(alpha=100.0)  184175.691646    130297.075109\n",
       "8     1000.00000    Ridge(alpha=1000.0)  235166.764993    135972.694084\n",
       "9    10000.00000   Ridge(alpha=10000.0)  312561.473713    229275.422002\n",
       "10  100000.00000  Ridge(alpha=100000.0)  337020.164314    260486.387668"
      ]
     },
     "execution_count": 76,
     "metadata": {},
     "output_type": "execute_result"
    }
   ],
   "source": [
    "l2_lambdas = np.logspace(-5, 5, 11, base = 10)\n",
    "\n",
    "from sklearn.linear_model import Ridge\n",
    "from sklearn.model_selection import cross_val_score\n",
    "\n",
    "ridge_data_dict = []\n",
    "\n",
    "for penalty in l2_lambdas:\n",
    "    ridge_model = Ridge(alpha=penalty)\n",
    "    ridge_model.fit(train_sales, train_price)\n",
    "    ridge_data_dict.append({\n",
    "        'l2_penalty': penalty,\n",
    "        'model': ridge_model,\n",
    "        'train_rmse': mean_squared_error(train_price, ridge_model.predict(train_sales), squared=False),\n",
    "        'validation_rmse': mean_squared_error(validation_price, ridge_model.predict(validation_sales), squared=False)\n",
    "    })\n",
    "\n",
    "ridge_data = pd.DataFrame(ridge_data_dict)"
   ]
  },
  {
   "cell_type": "markdown",
   "metadata": {},
   "source": [
    "Next, let's investigate how the penalty affected the train and validation error by running the following plotting code. "
   ]
  },
  {
   "cell_type": "code",
   "execution_count": 77,
   "metadata": {},
   "outputs": [
    {
     "data": {
      "text/plain": [
       "<matplotlib.legend.Legend at 0x248c5b9d310>"
      ]
     },
     "execution_count": 77,
     "metadata": {},
     "output_type": "execute_result"
    },
    {
     "data": {
      "image/png": "[encoded data removed]",
      "text/plain": [
       "<Figure size 640x480 with 1 Axes>"
      ]
     },
     "metadata": {},
     "output_type": "display_data"
    }
   ],
   "source": [
    "# Plot the validation RMSE as a blue line with dots\n",
    "plt.plot(ridge_data['l2_penalty'], ridge_data['validation_rmse'], \n",
    "         'b-^', label='Validation')\n",
    "# Plot the train RMSE as a red line dots\n",
    "plt.plot(ridge_data['l2_penalty'], ridge_data['train_rmse'], \n",
    "         'r-o', label='Train')\n",
    "\n",
    "# Make the x-axis log scale for readability\n",
    "plt.xscale('log')\n",
    "\n",
    "# Label the axes and make a legend\n",
    "plt.xlabel('l2_penalty')\n",
    "plt.ylabel('RMSE')\n",
    "plt.legend()"
   ]
  },
  {
   "cell_type": "markdown",
   "metadata": {},
   "source": [
    "Next, we want to actually look at which model we think will perform best. First we define a helper function that will be used to inspect the model parameters. You can leave the next chunk for your submission."
   ]
  },
  {
   "cell_type": "code",
   "execution_count": 78,
   "metadata": {},
   "outputs": [],
   "source": [
    "def print_coefficients(model, features):\n",
    "    \"\"\"\n",
    "    This function takes in a model column and a features column. \n",
    "    And prints the coefficient along with its feature name.\n",
    "    \"\"\"\n",
    "    feats = list(zip(features, model.coef_))\n",
    "    print(*feats, sep = \"\\n\")"
   ]
  },
  {
   "cell_type": "markdown",
   "metadata": {},
   "source": [
    "## Q5 - Inspecting Coefficients\n",
    "In the cell below, write code that uses the `ridge_data` `DataFrame` to select which L2 penalty we would choose based on the evaluations we did in the previous section. You should print out the following values to help you answer the next questions! \n",
    "* **Q5.1** -  The best L2 penalty based on the model evaluations. Save this L2 penalty in a variable called `best_l2`.\n",
    "* **Q5.2** - Take the best model and evaluate its error on the **test** dataset. Report the number as an RMSE stored in a variable called `test_rmse_ridge`.\n",
    "* **Q5.3** - Call the `print_coefficients` function passing in the model itself and the features used so you can look at all of its coefficient values. You should save the number of coefficients that are 0 in a variable called `num_zero_coeffs_ridge`.\n",
    "\n",
    "Use the next cell answer all three questions. You should also print out the values so you can inspect them.\n",
    "\n",
    "To do this in `pandas`, you'll need to use the `idxmin()` function to find the index of the smallest value in a column and the `loc` property to access that index. As an example, suppose we had a `DataFrame` named `df`:\n",
    "\n",
    "| a | b | c |\n",
    "|---|---|---|\n",
    "| 1 | 2 | 3 |\n",
    "| 2 | 1 | 3 |\n",
    "| 3 | 2 | 1 |\n",
    "\n",
    "If we wrote the code \n",
    "```python\n",
    "index = df['b'].idxmin()\n",
    "row = df.loc[index]\n",
    "```\n",
    "\n",
    "It would first find the index of the smallest value in the `b` column and then uses the `.loc` property of the `DataFrame` to access that particular row. It will return a `Series` object (basically a Python dictionary) which means you can use syntax like `row['a']` to access a particular column of that row."
   ]
  },
  {
   "cell_type": "code",
   "execution_count": 98,
   "metadata": {},
   "outputs": [],
   "source": [
    "# TODO Print information about best l2 model\n",
    "index = ridge_data['validation_rmse'].idxmin()\n",
    "row = ridge_data.loc[index]\n",
    "best_l2 = row['l2_penalty']\n",
    "best_model = row['model']\n",
    "test_rmse_ridge = mean_squared_error(test_price, best_model.predict(test_sales), squared=False)\n",
    "\n",
    "count = 0\n",
    "for coef in row['model'].coef_:\n",
    "  if abs(coef) <= 10 ** -17:\n",
    "    count +=1\n",
    "num_zero_coeffs_ridge = count\n",
    "\n",
    "\n",
    "# The next lines are for you to check your answer. Please comment out them in your submission file.\n",
    "# print('L2 Penalty',  best_l2)\n",
    "# print('Test RSME', test_rmse_ridge)\n",
    "# print('Num Zero Coeffs', num_zero_coeffs_ridge)\n",
    "# print_coefficients(row['model'], all_features)"
   ]
  },
  {
   "cell_type": "markdown",
   "metadata": {},
   "source": [
    "--- \n",
    "# LASSO Regression\n",
    "In this section you will do basically the exact same analysis you did with Ridge Regression, but using LASSO Regression instead. It's okay if your code for this section looks very similar to your code for the last section. \n",
    "\n",
    "Remember that for LASSO we choose the parameters that minimize this quality metric instead \n",
    "\n",
    "$$\\hat{w}_{LASSO} = \\min_w MSE(w) + \\lambda \\left\\lVert w \\right\\rVert_1$$\n",
    "\n",
    "where $\\left\\lVert w \\right\\rVert_1 = \\sum_{j=0}^D \\lVert w_j \\rVert$ is the L1 norm of the parameter vector.\n",
    "\n",
    "## Q6) Train LASSO Models\n",
    "We will use the same set of instructions for LASSO as we did for Ridge, except for the following differences. Please refer back to the Ridge Regression instructions and your code to see how these differences fit in!\n",
    "\n",
    "* Use the [Lasso](https://scikit-learn.org/stable/modules/generated/sklearn.linear_model.Lasso.html#sklearn.linear_model.Lasso) model. Like before, the only parameters you need to pass in are $\\lambda$ for the L1 penalty.\n",
    "* The range L1 penalties should be $[10, 10^2, ..., 10^7]$. In Python, this is `np.logspace(1, 7, 7, base=10)`.\n",
    "* The result should be stored in a `DataFrame` named `lasso_data`. All the columns should have the same name and corresponding values except the penalty column should be called `l1_penalty`.\n",
    "* It is okay if your code prints some `ConvergenceWarning` warnings, these should not impact your results!.\n",
    "\n",
    "You do not need to worry about your code being redundant with the last section for this part."
   ]
  },
  {
   "cell_type": "code",
   "execution_count": 87,
   "metadata": {},
   "outputs": [
    {
     "name": "stderr",
     "output_type": "stream",
     "text": [
      "d:\\cse 416\\env\\lib\\site-packages\\sklearn\\linear_model\\_coordinate_descent.py:634: ConvergenceWarning: Objective did not converge. You might want to increase the number of iterations, check the scale of the features or consider increasing regularisation. Duality gap: 1.873e+12, tolerance: 1.737e+09\n",
      "  model = cd_fast.enet_coordinate_descent(\n",
      "d:\\cse 416\\env\\lib\\site-packages\\sklearn\\linear_model\\_coordinate_descent.py:634: ConvergenceWarning: Objective did not converge. You might want to increase the number of iterations, check the scale of the features or consider increasing regularisation. Duality gap: 1.002e+12, tolerance: 1.737e+09\n",
      "  model = cd_fast.enet_coordinate_descent(\n"
     ]
    },
    {
     "data": {
      "text/html": [
       "<div>\n",
       "<style scoped>\n",
       "    .dataframe tbody tr th:only-of-type {\n",
       "        vertical-align: middle;\n",
       "    }\n",
       "\n",
       "    .dataframe tbody tr th {\n",
       "        vertical-align: top;\n",
       "    }\n",
       "\n",
       "    .dataframe thead th {\n",
       "        text-align: right;\n",
       "    }\n",
       "</style>\n",
       "<table border=\"1\" class=\"dataframe\">\n",
       "  <thead>\n",
       "    <tr style=\"text-align: right;\">\n",
       "      <th></th>\n",
       "      <th>l1_penalty</th>\n",
       "      <th>model</th>\n",
       "      <th>train_rmse</th>\n",
       "      <th>validation_rmse</th>\n",
       "    </tr>\n",
       "  </thead>\n",
       "  <tbody>\n",
       "    <tr>\n",
       "      <th>0</th>\n",
       "      <td>10.0</td>\n",
       "      <td>Lasso(alpha=10.0)</td>\n",
       "      <td>161838.682373</td>\n",
       "      <td>235672.837566</td>\n",
       "    </tr>\n",
       "    <tr>\n",
       "      <th>1</th>\n",
       "      <td>100.0</td>\n",
       "      <td>Lasso(alpha=100.0)</td>\n",
       "      <td>162519.998081</td>\n",
       "      <td>238739.127956</td>\n",
       "    </tr>\n",
       "    <tr>\n",
       "      <th>2</th>\n",
       "      <td>1000.0</td>\n",
       "      <td>Lasso(alpha=1000.0)</td>\n",
       "      <td>166434.830064</td>\n",
       "      <td>229316.875184</td>\n",
       "    </tr>\n",
       "    <tr>\n",
       "      <th>3</th>\n",
       "      <td>10000.0</td>\n",
       "      <td>Lasso(alpha=10000.0)</td>\n",
       "      <td>178928.209379</td>\n",
       "      <td>181145.805144</td>\n",
       "    </tr>\n",
       "    <tr>\n",
       "      <th>4</th>\n",
       "      <td>100000.0</td>\n",
       "      <td>Lasso(alpha=100000.0)</td>\n",
       "      <td>238636.625766</td>\n",
       "      <td>163414.536308</td>\n",
       "    </tr>\n",
       "    <tr>\n",
       "      <th>5</th>\n",
       "      <td>1000000.0</td>\n",
       "      <td>Lasso(alpha=1000000.0)</td>\n",
       "      <td>340342.756567</td>\n",
       "      <td>264727.074847</td>\n",
       "    </tr>\n",
       "    <tr>\n",
       "      <th>6</th>\n",
       "      <td>10000000.0</td>\n",
       "      <td>Lasso(alpha=10000000.0)</td>\n",
       "      <td>340342.756567</td>\n",
       "      <td>264727.074847</td>\n",
       "    </tr>\n",
       "  </tbody>\n",
       "</table>\n",
       "</div>"
      ],
      "text/plain": [
       "   l1_penalty                    model     train_rmse  validation_rmse\n",
       "0        10.0        Lasso(alpha=10.0)  161838.682373    235672.837566\n",
       "1       100.0       Lasso(alpha=100.0)  162519.998081    238739.127956\n",
       "2      1000.0      Lasso(alpha=1000.0)  166434.830064    229316.875184\n",
       "3     10000.0     Lasso(alpha=10000.0)  178928.209379    181145.805144\n",
       "4    100000.0    Lasso(alpha=100000.0)  238636.625766    163414.536308\n",
       "5   1000000.0   Lasso(alpha=1000000.0)  340342.756567    264727.074847\n",
       "6  10000000.0  Lasso(alpha=10000000.0)  340342.756567    264727.074847"
      ]
     },
     "execution_count": 87,
     "metadata": {},
     "output_type": "execute_result"
    }
   ],
   "source": [
    "l1_lambdas = np.logspace(1, 7, 7, base=10)\n",
    "\n",
    "# TODO Implement code to evaluate LASSO Regression with various L1 penalties\n",
    "from sklearn.linear_model import Lasso\n",
    "\n",
    "lasso_data_dict = []\n",
    "\n",
    "for penalty in l1_lambdas:\n",
    "    lasso_model = Lasso(alpha=penalty)\n",
    "    lasso_model.fit(train_sales, train_price)\n",
    "    lasso_data_dict.append({\n",
    "        'l1_penalty': penalty,\n",
    "        'model': lasso_model,\n",
    "        'train_rmse': mean_squared_error(train_price, lasso_model.predict(train_sales), squared=False),\n",
    "        'validation_rmse': mean_squared_error(validation_price, lasso_model.predict(validation_sales), squared=False)\n",
    "    })\n",
    "\n",
    "lasso_data = pd.DataFrame(lasso_data_dict)"
   ]
  },
  {
   "cell_type": "markdown",
   "metadata": {},
   "source": [
    "Like before, let's look at how the L1 penalty affects the performance."
   ]
  },
  {
   "cell_type": "code",
   "execution_count": 88,
   "metadata": {},
   "outputs": [
    {
     "data": {
      "text/plain": [
       "<matplotlib.legend.Legend at 0x248c858c460>"
      ]
     },
     "execution_count": 88,
     "metadata": {},
     "output_type": "execute_result"
    },
    {
     "data": {
      "image/png": "[encoded data removed]",
      "text/plain": [
       "<Figure size 640x480 with 1 Axes>"
      ]
     },
     "metadata": {},
     "output_type": "display_data"
    }
   ],
   "source": [
    "# Plot the validation RMSE as a blue line with dots\n",
    "\n",
    "plt.plot(lasso_data['l1_penalty'], lasso_data['validation_rmse'],\n",
    "         'b-^', label='Validation')\n",
    "\n",
    "# Plot the train RMSE as a red line dots\n",
    "plt.plot(lasso_data['l1_penalty'], lasso_data['train_rmse'],\n",
    "         'r-o', label='Train')\n",
    "\n",
    "# Make the x-axis log scale for readability\n",
    "plt.xscale('log')\n",
    "\n",
    "# Label the axes and make a legend\n",
    "plt.xlabel('l1_penalty')\n",
    "plt.ylabel('RMSE')\n",
    "plt.legend()"
   ]
  },
  {
   "cell_type": "markdown",
   "metadata": {},
   "source": [
    "## Q7 - Inspecting Coefficients\n",
    "Like before, in the cell below, write code that uses the `lasso_data` `DataFrame` to select which L1 penalty we would choose based on the evaluations we did in the previous section. You should print out the following values to help you answer the next questions! \n",
    "\n",
    "* **Q7.1** -  TThe best L1 penalty based on the model evaluations. Save this L1 penalty in a variable called `best_l1`.\n",
    "* **Q7.2** - Take the best model and evaluate it on the **test** dataset and report its RMSE. Report the number as an RMSE stored in a variable called `test_rmse_lasso`.\n",
    "* **Q7.3** - Call the `print_coefficients` function passing in the model itself and the features used so you can look at all of its coefficient values. Note some of the values are `-0.0` which is the same as `0.0` for our purposes. You should save the number of coefficients that are 0 in a variable called `num_zero_coeffs_lasso`."
   ]
  },
  {
   "cell_type": "code",
   "execution_count": 99,
   "metadata": {},
   "outputs": [],
   "source": [
    "# TODO Print information about best L1 model\n",
    "index = lasso_data['validation_rmse'].idxmin()\n",
    "row = lasso_data.loc[index]\n",
    "best_l1 = row['l1_penalty']\n",
    "test_rmse_lasso = mean_squared_error(test_price, row['model'].predict(test_sales), squared=False)\n",
    "\n",
    "count = 0\n",
    "for coef in row['model'].coef_:\n",
    "  if abs(coef) <= 10 ** -17:\n",
    "    count +=1\n",
    "num_zero_coeffs_lasso = count\n",
    "\n",
    "# You can use the following lines but comment them out for your submission.\n",
    "# print('Best L1 Penalty', best_l1)\n",
    "# print('Test RMSE', test_rmse_lasso)\n",
    "# print('Num Zero Coeffs', num_zero_coeffs_lasso)\n",
    "# print_coefficients(row['model'], all_features)"
   ]
  },
  {
   "cell_type": "markdown",
   "metadata": {},
   "source": [
    "Let's look at which coefficients ended up having a 0 coefficient. In the cell below, we print the name of all features with coefficient 0. Note, we actually have to check if it is near 0 since numeric computations in Python sometimes yield slight rounding errors (e.g., how 1/3 is .333333333333 and that can't be represented precisely in a computer)\n"
   ]
  },
  {
   "cell_type": "code",
   "execution_count": 95,
   "metadata": {},
   "outputs": [],
   "source": [
    "# Note: You will need to replace row['model'] with code similar to the last cell\n",
    "# to get the best model from the table\n",
    "\n",
    "# Run the next lines to see results but comment them out for submission.\n",
    "# for feature, coef in zip(all_features, row['model'].coef_):\n",
    "#   if abs(coef) <= 10 ** -17:\n",
    "#     print(feature)\n",
    "#     count +=1"
   ]
  }
 ],
 "metadata": {
  "kernelspec": {
   "display_name": "Python 3 (ipykernel)",
   "language": "python",
   "name": "python3"
  },
  "language_info": {
   "codemirror_mode": {
    "name": "ipython",
    "version": 3
   },
   "file_extension": ".py",
   "mimetype": "text/x-python",
   "name": "python",
   "nbconvert_exporter": "python",
   "pygments_lexer": "ipython3",
   "version": "3.8.8"
  },
  "vscode": {
   "interpreter": {
    "hash": "81794d4967e6c3204c66dcd87b604927b115b27c00565d3d43f05ba2f3a2cb0d"
   }
  }
 },
 "nbformat": 4,
 "nbformat_minor": 1
}
