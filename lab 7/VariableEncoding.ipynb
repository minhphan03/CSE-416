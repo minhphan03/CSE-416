{
 "cells": [
  {
   "cell_type": "markdown",
   "metadata": {},
   "source": [
    "<h1><center>STAT/CSE 416 Section 7: Variable Encoding</center></h1>\n",
    "<center><b>Section:</b>Review</center>\n",
    "<center><b>Instructor:</b>Emilija Perković</center>\n",
    "<center><b>TA:</b>---</center>\n",
    "<center><b>Date:</b> February 23, 2023</center>\n",
    "\n",
    "<center><b>Authors</b>: Anne Wagner</center>"
   ]
  },
  {
   "cell_type": "markdown",
   "metadata": {
    "colab_type": "text",
    "id": "BEiMfVXn9gaj"
   },
   "source": [
    "# Variable Encoding with Python"
   ]
  },
  {
   "cell_type": "markdown",
   "metadata": {
    "colab_type": "text",
    "id": "__LIiLoJ-Ibx"
   },
   "source": [
    "Many of the previous methods are usable with both categorical and continuous data, but when using any model with categorical data there are some extra data processing steps we should take into consideration. Consider this data set about five dinosaurs.\n",
    "\n",
    "|  Name |      Species     |    Diet   |      Diet (Specific)     | Mesozoic Period |\n",
    "|:-----:|:----------------:|:---------:|:------------------------:|:---------------:|\n",
    "| Terry |   Tyrannosaurus  | Carnivore |     Whoever it wants     |    Cretaceous   |\n",
    "| Danny |    Diplodocus    | Herbivore |       Tree foliage       |     Jurassic    |\n",
    "| Stacy |    Stegosaurus   | Herbivore |          Grazing         |     Jurassic    |\n",
    "| Timmy |    Triceratops   | Herbivore |          Grazing         |    Cretaceous   |\n",
    "| Penny | Procompsognathus | Carnivore | Smaller, cuter dinosaurs |     Triassic    |\n",
    "\n",
    "We have three categories, *Diet*, *Diet (Specific)*, and *Mesozoic Period* that have respectively 2, 4, and 3 categories each. How we treat these depends on how we want to use these variables, as well as what type of model we intend to fit. Lets consider first the *Diet* variable."
   ]
  },
  {
   "cell_type": "markdown",
   "metadata": {
    "colab_type": "text",
    "id": "IsI9diEYAzTC"
   },
   "source": [
    "## Binary encoding"
   ]
  },
  {
   "cell_type": "markdown",
   "metadata": {
    "colab_type": "text",
    "id": "LZ46XsOXA2V1"
   },
   "source": [
    "The simplest encoding, when we only have two categories, is to assign one category a value of $0$, and the other a category of $1$. We might reexpress this table as the following.\n",
    "\n",
    "|  Name |      Species     |    Diet   | Diet Enc |      Diet (Specific)     | Mesozoic Period |\n",
    "|:-----:|:----------------:|:---------:|:--------:|:------------------------:|:---------------:|\n",
    "| Terry |   Tyrannosaurus  | Carnivore |     0    |     Whoever it wants     |    Cretaceous   |\n",
    "| Danny |    Diplodocus    | Herbivore |     1    |       Tree foliage       |     Jurassic    |\n",
    "| Stacy |    Stegosaurus   | Herbivore |     1    |          Grazing         |     Jurassic    |\n",
    "| Timmy |    Triceratops   | Herbivore |     1    |          Grazing         |    Cretaceous   |\n",
    "| Penny | Procompsognathus | Carnivore |     0    | Smaller, cuter dinosaurs |     Triassic    |\n",
    "\n",
    "A binary classification allows us to use the *Diet* variable in a model such as Linear Regression, as a modification to the intercept or as an interaction with other variables by creating interaction terms. A Decision Tree can split on the variable based on the value being <.5 or >.5, or the diet can influence the score of a Logistic Regression while treating it the same way we would any other numeric valued feature. \n",
    "\n",
    "This only works for the case where we have two possible categories, so hopefully no dinosaurs decide to be omnivorous. This also assumes the model *can* use the variable as any other continuous variable. Naive Bayes does not mix categorical and continuous variables well, as the model would assume Gaussian distributions on binary classifiers. "
   ]
  },
  {
   "cell_type": "markdown",
   "metadata": {
    "colab_type": "text",
    "id": "CbEsND3VDgWI"
   },
   "source": [
    "## N-class encoding"
   ]
  },
  {
   "cell_type": "markdown",
   "metadata": {
    "colab_type": "text",
    "id": "BCwB8Aj7Dl6u"
   },
   "source": [
    "When a feature has multiple classes, such as the *Period* or *Diet (Specific)* features, a simple binary encoding won't suffice. We could consider assigning each value a distinct integer to tell them apart, such as this table.\n",
    "\n",
    "\n",
    "|  Name |      Species     |    Diet   | Diet Enc |      Diet (Specific)     | DietSpec Enc | Mesozoic Period | Period Enc |\n",
    "|:-----:|:----------------:|:---------:|:--------:|:------------------------:|:------------:|:---------------:|:----------:|\n",
    "| Terry |   Tyrannosaurus  | Carnivore |     0    |     Whoever it wants     |       0      |    Cretaceous   |      2     |\n",
    "| Danny |    Diplodocus    | Herbivore |     1    |       Tree foliage       |       1      |     Jurassic    |      1     |\n",
    "| Stacy |    Stegosaurus   | Herbivore |     1    |          Grazing         |       2      |     Jurassic    |      1     |\n",
    "| Timmy |    Triceratops   | Herbivore |     1    |          Grazing         |       2      |    Cretaceous   |      2     |\n",
    "| Penny | Procompsognathus | Carnivore |     0    | Smaller, cuter dinosaurs |       3      |     Triassic    |      0     |\n",
    "\n",
    "This potentially works for one variable, but causes many problems for the other. Which is okay, and why? Which has problems?"
   ]
  },
  {
   "cell_type": "markdown",
   "metadata": {
    "colab_type": "text",
    "id": "flxhXL62I1Wc"
   },
   "source": [
    "### K or K-1 Binary Encoding\n",
    "\n"
   ]
  },
  {
   "cell_type": "markdown",
   "metadata": {
    "colab_type": "text",
    "id": "vjNkfJZeI8kU"
   },
   "source": [
    "It makes no sense to treat the *Diet (Specific)* variable as being in some way ordered, and if we were to use it in the current state in a decision tree, it might try to identify herbivores by splitting on $DietSpec Enc>0.5$, classifying the Tyrannosaurus correctly and the Procompsognathus incorrectly. The ordering of these categories is meaningless; while the split might improve prediction accuracy, it is similarly meaningless.\n",
    "\n",
    "We instead choose to encode the variable as either $K$ or $K-1$ binary encodings, where $K$ is the number of observed classes. The data set would then look like so.\n",
    "\n",
    "|  Name |      Species     |    Diet   | Diet Enc |      Diet (Specific)     | DSE WiW | DSE TF | DSE G | DSE SCD | Mesozoic Period | Period Enc |\n",
    "|:-----:|:----------------:|:---------:|:--------:|:------------------------:|:-------:|:------:|:-----:|:-------:|:---------------:|:----------:|\n",
    "| Terry |   Tyrannosaurus  | Carnivore |     0    |     Whoever it wants     |    1    |    0   |   0   |    0    |    Cretaceous   |      2     |\n",
    "| Danny |    Diplodocus    | Herbivore |     1    |       Tree foliage       |    0    |    1   |   0   |    0    |     Jurassic    |      1     |\n",
    "| Stacy |    Stegosaurus   | Herbivore |     1    |          Grazing         |    0    |    0   |   1   |    0    |     Jurassic    |      1     |\n",
    "| Timmy |    Triceratops   | Herbivore |     1    |          Grazing         |    0    |    0   |   1   |    0    |    Cretaceous   |      2     |\n",
    "| Penny | Procompsognathus | Carnivore |     0    | Smaller, cuter dinosaurs |    0    |    0   |   0   |    1    |     Triassic    |      0     |\n",
    "\n",
    "We can either choose to leave one of these categories off, or include all $K$ categories. \n",
    "\n",
    "If we include all $K$ categories, \n",
    "* Unobserved classes can be handled, and will use no baseline with each encoding equal to 0.\n",
    "* Some methods may have co-linearity issues that cause convergence problems (Linear regression).\n",
    "\n",
    "If we drop one class down to $K-1$,\n",
    "* Unobserved classes will be treated as an instance of the dropped class, which is rolled into model 'intercept' terms.\n",
    "* Avoids co-linearity problems when not using regularization.\n",
    "* Our *Diet Enc* variable is a $K-1$ encoding that could not handle an 'Omnivore' in the dataset.\n",
    "\n",
    "Similar to previous binary encoding, this lets us treat the variables just as we would any other continuous, numerical values."
   ]
  },
  {
   "cell_type": "markdown",
   "metadata": {
    "colab_type": "text",
    "id": "MF57m7s0Iysd"
   },
   "source": [
    "### Ordinal Encoding"
   ]
  },
  {
   "cell_type": "markdown",
   "metadata": {
    "colab_type": "text",
    "id": "lemyPsqnLgIM"
   },
   "source": [
    "Unlike the encoding of the specific diets, the order of the *Period Enc* does have meaning. The numeric value of each encoding corresponds chronologically to the order in which each period took place. If a decision tree were to split on $Period Enc > 0.5$ it would specifically be splitting on dinosaur species that lived after the Triassic period. Due to the ordered nature of the categories, we can take advantage of a similarly ordered encoding. \n",
    "\n",
    "An ordinal encoding\n",
    "* Maintains the ordered relationship of categories\n",
    "* Assumes a constant distance between categories (IE: 4 is as far from 2 as 3 is from 1)\n",
    "* Assumes a linear relationship between categories (Similar to above)\n",
    "\n",
    "This can be useful any time a clear ordering is present, such as age ranges, but unequal ranges can run counter to the linear relationship assumption. The ranges [(18-25),(26-40),(40-50),(50-65),(65+)] are clearly ordered, but of unequal sizes. This would be fine in a decision tree, but would be less useful in something like logistic regression."
   ]
  },
  {
   "cell_type": "markdown",
   "metadata": {
    "colab_type": "text",
    "id": "oLfv2qPaOLib"
   },
   "source": [
    "# Examples"
   ]
  },
  {
   "cell_type": "code",
   "execution_count": 1,
   "metadata": {
    "colab": {
     "base_uri": "https://localhost:8080/",
     "height": 119
    },
    "colab_type": "code",
    "executionInfo": {
     "elapsed": 731,
     "status": "ok",
     "timestamp": 1588836481053,
     "user": {
      "displayName": "Anne Wagner",
      "photoUrl": "",
      "userId": "12859022221554008839"
     },
     "user_tz": 420
    },
    "id": "4yNJjg9PBUSt",
    "outputId": "fafedc8d-b39a-4da6-8655-ee7d8e63873f"
   },
   "outputs": [
    {
     "name": "stdout",
     "output_type": "stream",
     "text": [
      "    Name           Species       Diet                  DietSpec      Period\n",
      "0  Terry     Tyrannosaurus  Carnivore          Whoever it wants  Cretaceous\n",
      "1  Danny        Diplodocus  Herbivore              Tree foliage    Jurassic\n",
      "2  Stacy       Stegosaurus  Herbivore                   Grazing    Jurassic\n",
      "3  Timmy       Triceratops  Herbivore                   Grazing  Cretaceous\n",
      "4  Penny  Procompsognathus  Carnivore  Smaller, cuter dinosaurs    Triassic\n"
     ]
    }
   ],
   "source": [
    "import pandas as pd\n",
    "\n",
    "Terry={\"Name\":\"Terry\", \n",
    "       \"Species\":\"Tyrannosaurus\", \n",
    "       \"Diet\":\"Carnivore\", \n",
    "       \"DietSpec\":\"Whoever it wants\", \n",
    "       \"Period\":\"Cretaceous\"}\n",
    "Danny={\"Name\":\"Danny\", \n",
    "       \"Species\":\"Diplodocus\", \n",
    "       \"Diet\":\"Herbivore\", \n",
    "       \"DietSpec\":\"Tree foliage\", \n",
    "       \"Period\":\"Jurassic\"}\n",
    "Stacy={\"Name\":\"Stacy\", \n",
    "       \"Species\":\"Stegosaurus\", \n",
    "       \"Diet\":\"Herbivore\", \n",
    "       \"DietSpec\":\"Grazing\", \n",
    "       \"Period\":\"Jurassic\"}\n",
    "Timmy={\"Name\":\"Timmy\", \n",
    "       \"Species\":\"Triceratops\", \n",
    "       \"Diet\":\"Herbivore\", \n",
    "       \"DietSpec\":\"Grazing\", \n",
    "       \"Period\":\"Cretaceous\"}\n",
    "Penny={\"Name\":\"Penny\", \n",
    "       \"Species\":\"Procompsognathus\", \n",
    "       \"Diet\":\"Carnivore\", \n",
    "       \"DietSpec\":\"Smaller, cuter dinosaurs\", \n",
    "       \"Period\":\"Triassic\"}\n",
    "\n",
    "data=pd.DataFrame([Terry,Danny,Stacy,Timmy,Penny])\n",
    "print(data)"
   ]
  },
  {
   "cell_type": "code",
   "execution_count": 2,
   "metadata": {
    "colab": {
     "base_uri": "https://localhost:8080/",
     "height": 119
    },
    "colab_type": "code",
    "executionInfo": {
     "elapsed": 1551,
     "status": "ok",
     "timestamp": 1588839845696,
     "user": {
      "displayName": "Anne Wagner",
      "photoUrl": "",
      "userId": "12859022221554008839"
     },
     "user_tz": 420
    },
    "id": "PBe5TbQUOO5n",
    "outputId": "4434ff13-b9a4-4dbb-e29b-ac4803f50531"
   },
   "outputs": [
    {
     "name": "stdout",
     "output_type": "stream",
     "text": [
      "    Name       Diet  DietEnc\n",
      "0  Terry  Carnivore        0\n",
      "1  Danny  Herbivore        1\n",
      "2  Stacy  Herbivore        1\n",
      "3  Timmy  Herbivore        1\n",
      "4  Penny  Carnivore        0\n"
     ]
    }
   ],
   "source": [
    "from sklearn import preprocessing\n",
    "enc=preprocessing.LabelEncoder()\n",
    "\n",
    "#We can use the LabelEncoder for a simple binary encoding\n",
    "enc.fit(data['Diet'])\n",
    "\n",
    "#We have to 'fit' it to determine all the classes.\n",
    "data['DietEnc']=enc.transform(data['Diet'])\n",
    "\n",
    "print(data[['Name','Diet','DietEnc']])"
   ]
  },
  {
   "cell_type": "code",
   "execution_count": 3,
   "metadata": {
    "colab": {
     "base_uri": "https://localhost:8080/",
     "height": 119
    },
    "colab_type": "code",
    "executionInfo": {
     "elapsed": 547,
     "status": "ok",
     "timestamp": 1588840405854,
     "user": {
      "displayName": "Anne Wagner",
      "photoUrl": "",
      "userId": "12859022221554008839"
     },
     "user_tz": 420
    },
    "id": "8plitHD2PJFU",
    "outputId": "5a1a1909-0ccd-467c-dea4-0cb2a9716713"
   },
   "outputs": [
    {
     "name": "stdout",
     "output_type": "stream",
     "text": [
      "    Name      Period  PeriodEnc\n",
      "0  Terry  Cretaceous        2.0\n",
      "1  Danny    Jurassic        1.0\n",
      "2  Stacy    Jurassic        1.0\n",
      "3  Timmy  Cretaceous        2.0\n",
      "4  Penny    Triassic        0.0\n"
     ]
    }
   ],
   "source": [
    "ord_enc=preprocessing.OrdinalEncoder(categories=[['Triassic','Jurassic','Cretaceous']])\n",
    "\n",
    "#For an orderinal encoding, we need to tell it the order of the categories\n",
    "ord_enc.fit(data[['Period']])\n",
    "data['PeriodEnc']=ord_enc.transform(data[['Period']])\n",
    "\n",
    "print(data[['Name','Period','PeriodEnc']])"
   ]
  },
  {
   "cell_type": "code",
   "execution_count": 4,
   "metadata": {
    "colab": {
     "base_uri": "https://localhost:8080/",
     "height": 119
    },
    "colab_type": "code",
    "executionInfo": {
     "elapsed": 642,
     "status": "ok",
     "timestamp": 1588840981237,
     "user": {
      "displayName": "Anne Wagner",
      "photoUrl": "",
      "userId": "12859022221554008839"
     },
     "user_tz": 420
    },
    "id": "B8xD-PbrRNoG",
    "outputId": "8b9a6942-273f-4688-b61f-a98552117204"
   },
   "outputs": [
    {
     "name": "stdout",
     "output_type": "stream",
     "text": [
      "    Name                  DietSpec  DSEf0  DSEf1  DSEf2\n",
      "0  Terry          Whoever it wants    0.0    0.0    1.0\n",
      "1  Danny              Tree foliage    0.0    1.0    0.0\n",
      "2  Stacy                   Grazing    0.0    0.0    0.0\n",
      "3  Timmy                   Grazing    0.0    0.0    0.0\n",
      "4  Penny  Smaller, cuter dinosaurs    1.0    0.0    0.0\n"
     ]
    }
   ],
   "source": [
    "#The OneHotEncoder attractively encodes either K or K-1 binary features\n",
    "ohe = preprocessing.OneHotEncoder(drop='first')\n",
    "\n",
    "#We will first encode with K-1 features by 'dropping' \n",
    "#  the first feature and folding it into the baseline\n",
    "ohe.fit(data[['DietSpec']])\n",
    "tmp=ohe.transform(data[['DietSpec']]).toarray()\n",
    "data['DSEf0']=tmp[:,0]\n",
    "data['DSEf1']=tmp[:,1]\n",
    "data['DSEf2']=tmp[:,2]\n",
    "\n",
    "print(data[['Name','DietSpec','DSEf0','DSEf1','DSEf2']])\n",
    "#Note that grazing has been taken as a 'base case'"
   ]
  },
  {
   "cell_type": "code",
   "execution_count": 5,
   "metadata": {
    "colab": {
     "base_uri": "https://localhost:8080/",
     "height": 119
    },
    "colab_type": "code",
    "executionInfo": {
     "elapsed": 592,
     "status": "ok",
     "timestamp": 1588841042233,
     "user": {
      "displayName": "Anne Wagner",
      "photoUrl": "",
      "userId": "12859022221554008839"
     },
     "user_tz": 420
    },
    "id": "NmtxXGRsTZU4",
    "outputId": "d507f8cc-e688-4d5c-b6f0-cc98750e8316"
   },
   "outputs": [
    {
     "name": "stdout",
     "output_type": "stream",
     "text": [
      "    Name                  DietSpec  DSEf0  DSEf1  DSEf2  DSEf3\n",
      "0  Terry          Whoever it wants    0.0    0.0    0.0    1.0\n",
      "1  Danny              Tree foliage    0.0    0.0    1.0    0.0\n",
      "2  Stacy                   Grazing    1.0    0.0    0.0    0.0\n",
      "3  Timmy                   Grazing    1.0    0.0    0.0    0.0\n",
      "4  Penny  Smaller, cuter dinosaurs    0.0    1.0    0.0    0.0\n"
     ]
    }
   ],
   "source": [
    "ohe2 = preprocessing.OneHotEncoder()\n",
    "\n",
    "#We will encode all K features\n",
    "ohe2.fit(data[['DietSpec']])\n",
    "tmp=ohe2.transform(data[['DietSpec']]).toarray()\n",
    "data['DSEf0']=tmp[:,0]\n",
    "data['DSEf1']=tmp[:,1]\n",
    "data['DSEf2']=tmp[:,2]\n",
    "data['DSEf3']=tmp[:,3]\n",
    "\n",
    "print(data[['Name','DietSpec','DSEf0','DSEf1','DSEf2','DSEf3']])"
   ]
  },
  {
   "cell_type": "code",
   "execution_count": 6,
   "metadata": {
    "colab": {
     "base_uri": "https://localhost:8080/",
     "height": 136
    },
    "colab_type": "code",
    "executionInfo": {
     "elapsed": 572,
     "status": "ok",
     "timestamp": 1588841197037,
     "user": {
      "displayName": "Anne Wagner",
      "photoUrl": "",
      "userId": "12859022221554008839"
     },
     "user_tz": 420
    },
    "id": "awuXCVzsTqky",
    "outputId": "1d81e9aa-94fe-466b-afc7-560e541686df"
   },
   "outputs": [
    {
     "name": "stdout",
     "output_type": "stream",
     "text": [
      "[array(['Carnivore', 'Herbivore'], dtype=object), array(['Grazing', 'Smaller, cuter dinosaurs', 'Tree foliage',\n",
      "       'Whoever it wants'], dtype=object), array(['Cretaceous', 'Jurassic', 'Triassic'], dtype=object)]\n",
      "[[1. 0. 0. 0. 0. 1. 1. 0. 0.]\n",
      " [0. 1. 0. 0. 1. 0. 0. 1. 0.]\n",
      " [0. 1. 1. 0. 0. 0. 0. 1. 0.]\n",
      " [0. 1. 1. 0. 0. 0. 1. 0. 0.]\n",
      " [1. 0. 0. 1. 0. 0. 0. 0. 1.]]\n"
     ]
    }
   ],
   "source": [
    "#We can even use the OneHotEncoder to encode multiple variables at once.\n",
    "ohe3 = preprocessing.OneHotEncoder()\n",
    "\n",
    "#We will encode all K features\n",
    "ohe3.fit(data[['Diet','DietSpec','Period']])\n",
    "tmp=ohe3.transform(data[['Diet','DietSpec','Period']]).toarray()\n",
    "\n",
    "print(ohe3.categories_)\n",
    "print(tmp)"
   ]
  },
  {
   "cell_type": "code",
   "execution_count": 7,
   "metadata": {
    "colab": {
     "base_uri": "https://localhost:8080/",
     "height": 136
    },
    "colab_type": "code",
    "executionInfo": {
     "elapsed": 1202,
     "status": "ok",
     "timestamp": 1588841293906,
     "user": {
      "displayName": "Anne Wagner",
      "photoUrl": "",
      "userId": "12859022221554008839"
     },
     "user_tz": 420
    },
    "id": "yNc24I76UeCN",
    "outputId": "b5b2ee5d-5a3c-4819-b57d-880174d90f3f"
   },
   "outputs": [
    {
     "name": "stdout",
     "output_type": "stream",
     "text": [
      "[array(['Carnivore', 'Herbivore'], dtype=object), array(['Grazing', 'Smaller, cuter dinosaurs', 'Tree foliage',\n",
      "       'Whoever it wants'], dtype=object), array(['Cretaceous', 'Jurassic', 'Triassic'], dtype=object)]\n",
      "[[0. 0. 0. 1. 0. 0.]\n",
      " [1. 0. 1. 0. 1. 0.]\n",
      " [1. 0. 0. 0. 1. 0.]\n",
      " [1. 0. 0. 0. 0. 0.]\n",
      " [0. 1. 0. 0. 0. 1.]]\n"
     ]
    }
   ],
   "source": [
    "#We can even use the OneHotEncoder to encode multiple variables at once.\n",
    "ohe4 = preprocessing.OneHotEncoder(drop='first')\n",
    "\n",
    "#We will encode K-1 features\n",
    "ohe4.fit(data[['Diet','DietSpec','Period']])\n",
    "tmp=ohe4.transform(data[['Diet','DietSpec','Period']]).toarray()\n",
    "\n",
    "print(ohe4.categories_)\n",
    "print(tmp)"
   ]
  }
 ],
 "metadata": {
  "colab": {
   "collapsed_sections": [],
   "name": "VariableEncoding.ipynb",
   "provenance": []
  },
  "kernelspec": {
   "display_name": "Python 3",
   "language": "python",
   "name": "python3"
  },
  "language_info": {
   "codemirror_mode": {
    "name": "ipython",
    "version": 3
   },
   "file_extension": ".py",
   "mimetype": "text/x-python",
   "name": "python",
   "nbconvert_exporter": "python",
   "pygments_lexer": "ipython3",
   "version": "3.7.6"
  }
 },
 "nbformat": 4,
 "nbformat_minor": 1
}
