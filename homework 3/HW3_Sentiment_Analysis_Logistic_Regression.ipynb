{
 "cells": [
  {
   "cell_type": "markdown",
   "metadata": {
    "id": "V3V3Ec_wTI53"
   },
   "source": [
    "# Predicting sentiment from product reviews\n",
    "\n",
    "### The coding portion and the concept portion will be submitted on Gradescope.\n",
    "\n",
    "The goal of this first notebook is to explore logistic regression and feature engineering with sklearn.\n",
    "\n",
    "In this notebook you will use product review data from Amazon.com to predict whether the sentiments about a product (from its reviews) are positive or negative.\n",
    "\n",
    "* Use Pandas Dataframes to do feature engineering\n",
    "* Train a logistic regression model to predict the sentiment of product reviews.\n",
    "* Inspect the weights (coefficients) of a trained logistic regression model.\n",
    "* Make a prediction (both class and probability) of sentiment for a new product review.\n",
    "* Given a classifier, create a confusion matrix\n",
    "* Compare multiple logistic regression models.\n",
    "\n",
    "Copyright ©2021 Emily Fox, Hunter Schafer, Valentina Staneva.  All rights reserved.  Permission is hereby granted to students registered for University of Washington CSE/STAT 416 for use solely during Spring Quarter 2021 for purposes of the course.  No other use, copying, distribution, or modification is permitted without prior written consent. Copyrights for third-party components of this work must be honored.  Instructors interested in reusing these course materials should contact the author.\n"
   ]
  },
  {
   "cell_type": "code",
   "execution_count": 1,
   "metadata": {
    "id": "d_h1IK-ITI6F"
   },
   "outputs": [],
   "source": [
    "import math\n",
    "import string\n",
    "\n",
    "import matplotlib.pyplot as plt\n",
    "import numpy as np\n",
    "import pandas as pd\n",
    "import seaborn as sns\n",
    "\n",
    "from sklearn.linear_model import LogisticRegression\n",
    "from sklearn.metrics import accuracy_score\n",
    "from sklearn.model_selection import train_test_split\n",
    "from sklearn.feature_extraction.text import CountVectorizer\n",
    "from sklearn.feature_extraction import DictVectorizer\n",
    "\n",
    "sns.set()\n",
    "%matplotlib inline\n"
   ]
  },
  {
   "cell_type": "markdown",
   "metadata": {
    "id": "IDqj6m3gTI6G"
   },
   "source": [
    "# Data preparation\n",
    "\n",
    "We will use a dataset consisting of food product reviews on Amazon.com [source](http://jmcauley.ucsd.edu/data/amazon/)."
   ]
  },
  {
   "cell_type": "code",
   "execution_count": 3,
   "metadata": {
    "id": "l8_RiOv4TI6H"
   },
   "outputs": [],
   "source": [
    "products = pd.read_csv('food_products.csv')"
   ]
  },
  {
   "cell_type": "markdown",
   "metadata": {
    "id": "orsEw3wXTI6H"
   },
   "source": [
    "## Extract sentiments\n",
    "\n",
    "We will **ignore** all reviews with *rating = 3*, since they tend to have a neutral sentiment."
   ]
  },
  {
   "cell_type": "code",
   "execution_count": 5,
   "metadata": {
    "id": "dLfJ2rzdTI6H"
   },
   "outputs": [
    {
     "data": {
      "text/plain": [
       "889"
      ]
     },
     "execution_count": 5,
     "metadata": {},
     "output_type": "execute_result"
    }
   ],
   "source": [
    "products = products[products['rating'] != 3]\n",
    "products = products.copy()  # This is to avoid having a view on the old data\n",
    "\n",
    "len(products)"
   ]
  },
  {
   "cell_type": "code",
   "execution_count": 6,
   "metadata": {
    "id": "OCMsddLATI6I"
   },
   "outputs": [
    {
     "data": {
      "text/plain": [
       "<AxesSubplot: title={'center': 'Number of reviews with a given rating'}, xlabel='rating', ylabel='Count'>"
      ]
     },
     "execution_count": 6,
     "metadata": {},
     "output_type": "execute_result"
    },
    {
     "data": {
      "image/png": "[encoded data removed]",
      "text/plain": [
       "<Figure size 640x480 with 1 Axes>"
      ]
     },
     "metadata": {},
     "output_type": "display_data"
    }
   ],
   "source": [
    "plt.title('Number of reviews with a given rating')\n",
    "sns.histplot(products['rating'])"
   ]
  },
  {
   "cell_type": "markdown",
   "metadata": {
    "id": "I6InKW0hTI6J"
   },
   "source": [
    "Now, we will assign reviews with a rating of 4 or higher to be *positive* reviews, while the ones with rating of 2 or lower are *negative*. For the sentiment column, we use +1 for the positive class label and -1 for the negative class label."
   ]
  },
  {
   "cell_type": "code",
   "execution_count": 7,
   "metadata": {
    "id": "JMm_t7TNTI6J"
   },
   "outputs": [
    {
     "data": {
      "text/html": [
       "<div>\n",
       "<style scoped>\n",
       "    .dataframe tbody tr th:only-of-type {\n",
       "        vertical-align: middle;\n",
       "    }\n",
       "\n",
       "    .dataframe tbody tr th {\n",
       "        vertical-align: top;\n",
       "    }\n",
       "\n",
       "    .dataframe thead th {\n",
       "        text-align: right;\n",
       "    }\n",
       "</style>\n",
       "<table border=\"1\" class=\"dataframe\">\n",
       "  <thead>\n",
       "    <tr style=\"text-align: right;\">\n",
       "      <th></th>\n",
       "      <th>product_id</th>\n",
       "      <th>summary</th>\n",
       "      <th>review</th>\n",
       "      <th>rating</th>\n",
       "      <th>sentiment</th>\n",
       "    </tr>\n",
       "  </thead>\n",
       "  <tbody>\n",
       "    <tr>\n",
       "      <th>1</th>\n",
       "      <td>4209</td>\n",
       "      <td>One bad packet ruins the product!</td>\n",
       "      <td>I should have stayed with Idahoan brand. Poor ...</td>\n",
       "      <td>1.0</td>\n",
       "      <td>-1</td>\n",
       "    </tr>\n",
       "    <tr>\n",
       "      <th>2</th>\n",
       "      <td>8623</td>\n",
       "      <td>CAULIFLOWER PASTA!?</td>\n",
       "      <td>As the pasta cooked, I read the box to see wha...</td>\n",
       "      <td>4.0</td>\n",
       "      <td>1</td>\n",
       "    </tr>\n",
       "    <tr>\n",
       "      <th>3</th>\n",
       "      <td>9439</td>\n",
       "      <td>Tasty and inexpensive</td>\n",
       "      <td>I really like this cereal. The flavor is sligh...</td>\n",
       "      <td>5.0</td>\n",
       "      <td>1</td>\n",
       "    </tr>\n",
       "    <tr>\n",
       "      <th>4</th>\n",
       "      <td>7110</td>\n",
       "      <td>I'm Confused</td>\n",
       "      <td>The label on the bowl says 35 grams is in the ...</td>\n",
       "      <td>2.0</td>\n",
       "      <td>-1</td>\n",
       "    </tr>\n",
       "    <tr>\n",
       "      <th>5</th>\n",
       "      <td>1373</td>\n",
       "      <td>Flat</td>\n",
       "      <td>Doesn't taste like ginger.  Thought it would s...</td>\n",
       "      <td>2.0</td>\n",
       "      <td>-1</td>\n",
       "    </tr>\n",
       "  </tbody>\n",
       "</table>\n",
       "</div>"
      ],
      "text/plain": [
       "   product_id                            summary  \\\n",
       "1        4209  One bad packet ruins the product!   \n",
       "2        8623                CAULIFLOWER PASTA!?   \n",
       "3        9439              Tasty and inexpensive   \n",
       "4        7110                       I'm Confused   \n",
       "5        1373                               Flat   \n",
       "\n",
       "                                              review  rating  sentiment  \n",
       "1  I should have stayed with Idahoan brand. Poor ...     1.0         -1  \n",
       "2  As the pasta cooked, I read the box to see wha...     4.0          1  \n",
       "3  I really like this cereal. The flavor is sligh...     5.0          1  \n",
       "4  The label on the bowl says 35 grams is in the ...     2.0         -1  \n",
       "5  Doesn't taste like ginger.  Thought it would s...     2.0         -1  "
      ]
     },
     "execution_count": 7,
     "metadata": {},
     "output_type": "execute_result"
    }
   ],
   "source": [
    "products['sentiment'] = products['rating'].apply(lambda rating : +1 if rating > 3 else -1)\n",
    "products.head()"
   ]
  },
  {
   "cell_type": "markdown",
   "metadata": {
    "id": "IeVaGJU1TI6K"
   },
   "source": [
    "Now, we can see that the dataset contains an extra column called **sentiment** which is either positive (+1) or negative (-1)."
   ]
  },
  {
   "cell_type": "markdown",
   "metadata": {
    "id": "olzgv9IxTI6L"
   },
   "source": [
    "## Build the word count vector for each review"
   ]
  },
  {
   "cell_type": "markdown",
   "metadata": {
    "id": "XzX_Ll9qTI6L"
   },
   "source": [
    "Let us explore a specific example of a food product. We have information about the product, the review left, and both the rating that was given and the sentiment label we computed."
   ]
  },
  {
   "cell_type": "code",
   "execution_count": 8,
   "metadata": {
    "id": "PwzSYYwNTI6L"
   },
   "outputs": [
    {
     "data": {
      "text/plain": [
       "product_id                                                  918\n",
       "summary                                It's PRIME-arily Lobster\n",
       "review        if it's primarily made from lobster, what else...\n",
       "rating                                                      4.0\n",
       "sentiment                                                     1\n",
       "Name: 34, dtype: object"
      ]
     },
     "execution_count": 8,
     "metadata": {},
     "output_type": "execute_result"
    }
   ],
   "source": [
    "products.iloc[21]"
   ]
  },
  {
   "cell_type": "markdown",
   "metadata": {
    "id": "8VYkZg40TI6M"
   },
   "source": [
    "To work with the text data, we will need to eventually turn it into word counts. In other words, we will be making a feature for every word that could possibly appear in the data, and the value for that feature for one example would be the number of times that word appears in that example. \n",
    "\n",
    "To accomplish this, we will need to do two data transformation:\n",
    "\n",
    "1. Remove punctuation using [Python's built-in](https://docs.python.org/2/library/string.html) string functionality.\n",
    "2. Transform the reviews into word-counts.\n",
    "\n",
    "\n",
    "\n",
    "> **Aside**. In this assignment, we remove all punctuations for the sake of simplicity. A smarter approach to punctuations would preserve phrases such as \"I'd\", \"would've\", \"hadn't\" and so forth. \n",
    "> \n",
    "> If you are curious in learning how to handle these complexities in practice, you might be interested in  researching more about tokenization and NLP like [this page](https://towardsdatascience.com/tokenization-for-natural-language-processing-a179a891bad4) shows. Note that you do not need to do any of that stuff for this assignment.\n",
    "\n",
    "So first, we remove punctuation with the code in the next cell."
   ]
  },
  {
   "cell_type": "code",
   "execution_count": 11,
   "metadata": {
    "id": "R65fJRNgTI6M"
   },
   "outputs": [],
   "source": [
    "def remove_punctuation(text):\n",
    "    if type(text) is str:\n",
    "        return text.translate(str.maketrans('', '', string.punctuation)) # string.punctuation is a list of punctuation\n",
    "    else:\n",
    "        return ''\n",
    "    \n",
    "products['review_clean'] = products['review'].apply(remove_punctuation)"
   ]
  },
  {
   "cell_type": "markdown",
   "metadata": {
    "id": "MCf-Bkd3TI6M"
   },
   "source": [
    "Next, we use scikit-learn's [CountVectorizer](https://scikit-learn.org/stable/modules/generated/sklearn.feature_extraction.text.CountVectorizer.html) to get counts for each word. "
   ]
  },
  {
   "cell_type": "code",
   "execution_count": 17,
   "metadata": {
    "id": "yF6-uqRTTI6N"
   },
   "outputs": [],
   "source": [
    "# Make counts\n",
    "vectorizer = CountVectorizer() # lowercase=True by default\n",
    "count_matrix = vectorizer.fit_transform(products['review_clean'])\n",
    "\n",
    "# Make a new DataFrame with the counts information\n",
    "product_data = pd.DataFrame(count_matrix.toarray(),\n",
    "        index=products.index,\n",
    "        columns=vectorizer.get_feature_names_out())\n",
    "\n",
    "# Add the old columns to our new DataFrame. \n",
    "# We won't use review_clean and the summary in our model, but we will keep\n",
    "# them to look at later.\n",
    "product_data['sentiment'] = products['sentiment']\n",
    "product_data['review_clean'] = products['review_clean']  \n",
    "product_data['summary'] = products['summary']"
   ]
  },
  {
   "cell_type": "markdown",
   "metadata": {
    "id": "jel4tt2WTI6N"
   },
   "source": [
    "We have now created a lot of features to work with! Note that in the table above, we will have one feature for each word taht appeared in the data and the value for that feature is the count of that word in that review. So for example, if review 5 had the word \"dog\" in it 3 times, the value in row 5 and column \"dog\" would be 3.\n",
    "\n",
    "## Split data into training, validation and test sets."
   ]
  },
  {
   "cell_type": "markdown",
   "metadata": {
    "id": "qN3RlPuMTI6O"
   },
   "source": [
    "Let's perform a train/validation/test split with 80% of the data in the training set, 10% of the data in the validation set, 10% test. Note that we use `random_state=3` so that everyone gets the same result."
   ]
  },
  {
   "cell_type": "code",
   "execution_count": 18,
   "metadata": {
    "id": "AJWO5vplTI6O"
   },
   "outputs": [],
   "source": [
    "train_data, test_data = train_test_split(product_data, test_size=0.2, random_state=3)\n",
    "validation_data, test_data = train_test_split(test_data, test_size=0.5, random_state=3)"
   ]
  },
  {
   "cell_type": "markdown",
   "metadata": {
    "id": "EfYV6hQXTI6O"
   },
   "source": [
    "# Baseline: Majority class prediction\n",
    "\n",
    "It is quite common to use the **majority class classifier** as the a baseline (or reference) model for comparison with your classifier model. The majority classifier model predicts the majority class for all data points.\n",
    "\n",
    "To \"train\" the majority class classifier, you should simply find the most frequent target in the training data.\n",
    "\n",
    "### **Question 1:** Majority class classifier\n",
    "* Compute the most frequent label and store it in a variable called `majority_label`.\n",
    "* What is the validation accuracy of the majority class classifer. Store your result as a number between 0 and 1 in a variable called `majority_classifier_validation_accuracy`.\n",
    "  \n",
    "  *Hint:* pandas allows you to take the sum of a boolean series - true values are equal to 1, false values are equal 0."
   ]
  },
  {
   "cell_type": "code",
   "execution_count": 107,
   "metadata": {
    "id": "I-FhV9KITI6O"
   },
   "outputs": [],
   "source": [
    "### edTest(test_q1_majority_classifier) ###\n",
    "\n",
    "# TODO \"Train\" a majority class classifier and calculate its validation accuracy\n",
    "count = product_data.groupby(['sentiment'])['sentiment'].count()\n",
    "majority_label = 1 if count[1] > count[-1] else -1\n",
    "\n",
    "# binary classification model so there are only two labels making up the whole table\n",
    "\n",
    "majority_classifier_validation_accuracy = count[majority_label]/product_data.shape[0]"
   ]
  },
  {
   "cell_type": "markdown",
   "metadata": {
    "id": "hwYCpcnDTI6O"
   },
   "source": [
    "# Train a sentiment classifier with logistic regression\n",
    "\n",
    "We will now use logistic regression to create a sentiment classifier on the training data. This model will use the columns representing word coutnts as features and the column **sentiment** as the target. We will set **no regularization penalty** (and set `random_state=1` to get the same answer as everyone else). \n",
    "\n",
    "You can see scikit-learn's documentation for LogisticRegression [here](https://scikit-learn.org/stable/modules/generated/sklearn.linear_model.LogisticRegression.html). Note that the parameter for this class to control regularization is named `C` and it represents the inverse of the penalty strenght. In other words $C = \\frac{1}{\\lambda}$. This means to have very little regularization, we make `C` a very large number (corresponding to a very small $\\lambda$)."
   ]
  },
  {
   "cell_type": "code",
   "execution_count": 32,
   "metadata": {
    "id": "gt9j52bOTI6P"
   },
   "outputs": [
    {
     "data": {
      "text/html": [
       "<style>#sk-container-id-1 {color: black;background-color: white;}#sk-container-id-1 pre{padding: 0;}#sk-container-id-1 div.sk-toggleable {background-color: white;}#sk-container-id-1 label.sk-toggleable__label {cursor: pointer;display: block;width: 100%;margin-bottom: 0;padding: 0.3em;box-sizing: border-box;text-align: center;}#sk-container-id-1 label.sk-toggleable__label-arrow:before {content: \"▸\";float: left;margin-right: 0.25em;color: #696969;}#sk-container-id-1 label.sk-toggleable__label-arrow:hover:before {color: black;}#sk-container-id-1 div.sk-estimator:hover label.sk-toggleable__label-arrow:before {color: black;}#sk-container-id-1 div.sk-toggleable__content {max-height: 0;max-width: 0;overflow: hidden;text-align: left;background-color: #f0f8ff;}#sk-container-id-1 div.sk-toggleable__content pre {margin: 0.2em;color: black;border-radius: 0.25em;background-color: #f0f8ff;}#sk-container-id-1 input.sk-toggleable__control:checked~div.sk-toggleable__content {max-height: 200px;max-width: 100%;overflow: auto;}#sk-container-id-1 input.sk-toggleable__control:checked~label.sk-toggleable__label-arrow:before {content: \"▾\";}#sk-container-id-1 div.sk-estimator input.sk-toggleable__control:checked~label.sk-toggleable__label {background-color: #d4ebff;}#sk-container-id-1 div.sk-label input.sk-toggleable__control:checked~label.sk-toggleable__label {background-color: #d4ebff;}#sk-container-id-1 input.sk-hidden--visually {border: 0;clip: rect(1px 1px 1px 1px);clip: rect(1px, 1px, 1px, 1px);height: 1px;margin: -1px;overflow: hidden;padding: 0;position: absolute;width: 1px;}#sk-container-id-1 div.sk-estimator {font-family: monospace;background-color: #f0f8ff;border: 1px dotted black;border-radius: 0.25em;box-sizing: border-box;margin-bottom: 0.5em;}#sk-container-id-1 div.sk-estimator:hover {background-color: #d4ebff;}#sk-container-id-1 div.sk-parallel-item::after {content: \"\";width: 100%;border-bottom: 1px solid gray;flex-grow: 1;}#sk-container-id-1 div.sk-label:hover label.sk-toggleable__label {background-color: #d4ebff;}#sk-container-id-1 div.sk-serial::before {content: \"\";position: absolute;border-left: 1px solid gray;box-sizing: border-box;top: 0;bottom: 0;left: 50%;z-index: 0;}#sk-container-id-1 div.sk-serial {display: flex;flex-direction: column;align-items: center;background-color: white;padding-right: 0.2em;padding-left: 0.2em;position: relative;}#sk-container-id-1 div.sk-item {position: relative;z-index: 1;}#sk-container-id-1 div.sk-parallel {display: flex;align-items: stretch;justify-content: center;background-color: white;position: relative;}#sk-container-id-1 div.sk-item::before, #sk-container-id-1 div.sk-parallel-item::before {content: \"\";position: absolute;border-left: 1px solid gray;box-sizing: border-box;top: 0;bottom: 0;left: 50%;z-index: -1;}#sk-container-id-1 div.sk-parallel-item {display: flex;flex-direction: column;z-index: 1;position: relative;background-color: white;}#sk-container-id-1 div.sk-parallel-item:first-child::after {align-self: flex-end;width: 50%;}#sk-container-id-1 div.sk-parallel-item:last-child::after {align-self: flex-start;width: 50%;}#sk-container-id-1 div.sk-parallel-item:only-child::after {width: 0;}#sk-container-id-1 div.sk-dashed-wrapped {border: 1px dashed gray;margin: 0 0.4em 0.5em 0.4em;box-sizing: border-box;padding-bottom: 0.4em;background-color: white;}#sk-container-id-1 div.sk-label label {font-family: monospace;font-weight: bold;display: inline-block;line-height: 1.2em;}#sk-container-id-1 div.sk-label-container {text-align: center;}#sk-container-id-1 div.sk-container {/* jupyter's `normalize.less` sets `[hidden] { display: none; }` but bootstrap.min.css set `[hidden] { display: none !important; }` so we also need the `!important` here to be able to override the default hidden behavior on the sphinx rendered scikit-learn.org. See: https://github.com/scikit-learn/scikit-learn/issues/21755 */display: inline-block !important;position: relative;}#sk-container-id-1 div.sk-text-repr-fallback {display: none;}</style><div id=\"sk-container-id-1\" class=\"sk-top-container\"><div class=\"sk-text-repr-fallback\"><pre>LogisticRegression(C=1e+23, random_state=1)</pre><b>In a Jupyter environment, please rerun this cell to show the HTML representation or trust the notebook. <br />On GitHub, the HTML representation is unable to render, please try loading this page with nbviewer.org.</b></div><div class=\"sk-container\" hidden><div class=\"sk-item\"><div class=\"sk-estimator sk-toggleable\"><input class=\"sk-toggleable__control sk-hidden--visually\" id=\"sk-estimator-id-1\" type=\"checkbox\" checked><label for=\"sk-estimator-id-1\" class=\"sk-toggleable__label sk-toggleable__label-arrow\">LogisticRegression</label><div class=\"sk-toggleable__content\"><pre>LogisticRegression(C=1e+23, random_state=1)</pre></div></div></div></div></div>"
      ],
      "text/plain": [
       "LogisticRegression(C=1e+23, random_state=1)"
      ]
     },
     "execution_count": 32,
     "metadata": {},
     "output_type": "execute_result"
    }
   ],
   "source": [
    "features = vectorizer.get_feature_names_out()\n",
    "\n",
    "# Note: C = 1/Lambda. Setting C to a really high value is the same as setting lambda = 0\n",
    "sentiment_model = LogisticRegression(penalty='l2', random_state=1, C=1e23)\n",
    "sentiment_model.fit(train_data[features], train_data['sentiment'])"
   ]
  },
  {
   "cell_type": "markdown",
   "metadata": {
    "id": "DV0KQoyTTI6P"
   },
   "source": [
    "Let's look at some of the coefficients and the corresponding words. The weights are stored in a `coef_` property: "
   ]
  },
  {
   "cell_type": "code",
   "execution_count": 42,
   "metadata": {
    "id": "OFl1IWCwTI6Q"
   },
   "outputs": [
    {
     "name": "stdout",
     "output_type": "stream",
     "text": [
      "Smallest coefficient -11.175390439387508\n",
      "Largest coefficient: 19.979314949821593\n"
     ]
    },
    {
     "data": {
      "text/plain": [
       "numpy.ndarray"
      ]
     },
     "execution_count": 42,
     "metadata": {},
     "output_type": "execute_result"
    }
   ],
   "source": [
    "coefficients = sentiment_model.coef_[0] \n",
    "\n",
    "print('Smallest coefficient', coefficients.min())\n",
    "print('Largest coefficient:', coefficients.max())"
   ]
  },
  {
   "cell_type": "markdown",
   "metadata": {
    "id": "ihGKU_-9TI6Q"
   },
   "source": [
    "### **Question 2:** Most Positive/Negative Word\n",
    "For the sentiment model we trained above, compute the word with the most negative weight and the word with the most positive weight.\n",
    "\n",
    "Store your results in the variables `most_negative_word` and `most_positive_word`.\n",
    "\n",
    "While you only need to write code to compute the most negative and most positive, we also recommend printing out the words with the highest magnitude coefficients to make sure they make sense.\n"
   ]
  },
  {
   "cell_type": "code",
   "execution_count": 62,
   "metadata": {
    "id": "4BBZ-WqvTI6Q"
   },
   "outputs": [],
   "source": [
    "### edTest(test_q2_most_pos_neg_words) ###\n",
    "smallest_coeff_index = np.where(coefficients == coefficients.min())[0]\n",
    "most_negative_word = train_data.columns[smallest_coeff_index]\n",
    "biggest_coeff_index = np.where(coefficients == coefficients.max())[0]\n",
    "most_positive_word = train_data.columns[biggest_coeff_index]"
   ]
  },
  {
   "cell_type": "code",
   "execution_count": 58,
   "metadata": {},
   "outputs": [],
   "source": [
    "def print_coefficients(model, features):\n",
    "    \"\"\"\n",
    "    This function takes in a model column and a features column. \n",
    "    And prints the coefficient along with its feature name.\n",
    "    \"\"\"\n",
    "    feats = list(zip(features, model.coef_[0]))\n",
    "    print(*feats, sep = \"\\n\")"
   ]
  },
  {
   "cell_type": "markdown",
   "metadata": {
    "id": "Dy1azz9ATI6Q"
   },
   "source": [
    "## Making predictions with logistic regression\n",
    "\n",
    "Now that a model is trained, we can make predictions on the **validation data**. In this first section, we will restrict the examples we are looking at to 3 examples in the validation dataset. We refer to this set of 3 examples as the **sample_data**."
   ]
  },
  {
   "cell_type": "code",
   "execution_count": 63,
   "metadata": {
    "id": "iQCsRiz1TI6Q"
   },
   "outputs": [
    {
     "data": {
      "text/html": [
       "<div>\n",
       "<style scoped>\n",
       "    .dataframe tbody tr th:only-of-type {\n",
       "        vertical-align: middle;\n",
       "    }\n",
       "\n",
       "    .dataframe tbody tr th {\n",
       "        vertical-align: top;\n",
       "    }\n",
       "\n",
       "    .dataframe thead th {\n",
       "        text-align: right;\n",
       "    }\n",
       "</style>\n",
       "<table border=\"1\" class=\"dataframe\">\n",
       "  <thead>\n",
       "    <tr style=\"text-align: right;\">\n",
       "      <th></th>\n",
       "      <th>sentiment</th>\n",
       "      <th>review_clean</th>\n",
       "      <th>summary</th>\n",
       "    </tr>\n",
       "  </thead>\n",
       "  <tbody>\n",
       "    <tr>\n",
       "      <th>493</th>\n",
       "      <td>-1</td>\n",
       "      <td>The Chocolate Espresso flavor of the thinkThin...</td>\n",
       "      <td>Not a good taste</td>\n",
       "    </tr>\n",
       "    <tr>\n",
       "      <th>311</th>\n",
       "      <td>1</td>\n",
       "      <td>hard candy with a smooth creamy milk taste i l...</td>\n",
       "      <td>great taste</td>\n",
       "    </tr>\n",
       "    <tr>\n",
       "      <th>570</th>\n",
       "      <td>1</td>\n",
       "      <td>When I was growing up split pea soup was a uni...</td>\n",
       "      <td>More like split pea stew</td>\n",
       "    </tr>\n",
       "  </tbody>\n",
       "</table>\n",
       "</div>"
      ],
      "text/plain": [
       "     sentiment                                       review_clean  \\\n",
       "493         -1  The Chocolate Espresso flavor of the thinkThin...   \n",
       "311          1  hard candy with a smooth creamy milk taste i l...   \n",
       "570          1  When I was growing up split pea soup was a uni...   \n",
       "\n",
       "                      summary  \n",
       "493          Not a good taste  \n",
       "311               great taste  \n",
       "570  More like split pea stew  "
      ]
     },
     "execution_count": 63,
     "metadata": {},
     "output_type": "execute_result"
    }
   ],
   "source": [
    "sample_data = validation_data[8:11]\n",
    "sample_data[['sentiment', 'review_clean', 'summary']]"
   ]
  },
  {
   "cell_type": "markdown",
   "metadata": {
    "id": "WP6Xli_NTI6Q"
   },
   "source": [
    "### Predicting sentiment\n",
    "Let's start by predicting the sentiment of the 3 examples in the `sample_data`. The `predict_proba` method on the `LogisticRegression` class outputs a probability for each class possible.\n",
    "\n",
    "The output has one row for each example. Each row is an array of 2 numbers, the first is the predictor's prediction for the probability it is a negative sentiment example, and the second is the probability of it being a positive sentiment example."
   ]
  },
  {
   "cell_type": "code",
   "execution_count": 64,
   "metadata": {
    "id": "rbyxpUKqTI6R"
   },
   "outputs": [
    {
     "name": "stdout",
     "output_type": "stream",
     "text": [
      "  Prob Negative, Prob Positive\n",
      "[[1.00000000e+00 1.11693736e-31]\n",
      " [2.33590924e-13 1.00000000e+00]\n",
      " [1.00000000e+00 3.08339283e-22]]\n"
     ]
    }
   ],
   "source": [
    "print('  Prob Negative, Prob Positive')\n",
    "print(sentiment_model.predict_proba(sample_data[features]))"
   ]
  },
  {
   "cell_type": "markdown",
   "metadata": {
    "id": "dFlq2EP5TI6R"
   },
   "source": [
    "We are also able to make predictions using the `predict` function"
   ]
  },
  {
   "cell_type": "code",
   "execution_count": 65,
   "metadata": {
    "id": "4pP7IemCTI6R"
   },
   "outputs": [
    {
     "name": "stdout",
     "output_type": "stream",
     "text": [
      "Predicted labels\n",
      "[-1  1 -1]\n"
     ]
    }
   ],
   "source": [
    "print('Predicted labels')\n",
    "print(sentiment_model.predict(sample_data[features]))"
   ]
  },
  {
   "cell_type": "markdown",
   "metadata": {
    "id": "l2Jy9HpcTI6R"
   },
   "source": [
    "### **Question 3:** Find the most positive (and negative) review"
   ]
  },
  {
   "cell_type": "markdown",
   "metadata": {
    "id": "Nxa7exE4TI6R"
   },
   "source": [
    "We now turn to examining the full **validation_data** dataset <span style=\"color:red\">(not sample_data)</span>, , and use `sklearn` to form predictions on all of the data points for faster performance.\n",
    "\n",
    "Using the `sentiment_model`, find review in the **validation_data** with the **highest probability** of being classified as a **positive review**. Also, find the reivew with the **highest probability** of being classified as a **negative review**. We refer to these as the \"most positive review\" and \"most negative review\" respectively. Store the `review_clean` column value for each of these rows in `most_positive_review` and `most_negative_review` respectively.\n",
    "\n",
    "If there is a tie for the most positive/negative reivew, you should always grab the one that appears *first* in the validation data.\n",
    "\n",
    "*Hint*: Once you know the index of the most positive/negative reviews, use the `.iloc[]` accessor on the DataFrame to get that row and find its `review_clean` value."
   ]
  },
  {
   "cell_type": "code",
   "execution_count": 100,
   "metadata": {
    "id": "z3DK8sbWTI6R"
   },
   "outputs": [],
   "source": [
    "### edTest(test_q3_most_positive_negative_review) ###\n",
    "\n",
    "# TODO Find the review_clean values for the most positive and most negative review\n",
    "validation_data_sentiment_raw = sentiment_model.predict_proba(validation_data[features])\n",
    "validation_data_sentiment = pd.DataFrame(validation_data_sentiment_raw, columns=['Prob Negative', 'Prob Positive'], index = validation_data.index)\n",
    "max_sentiment_prob_positive = validation_data_sentiment['Prob Positive'].max()\n",
    "max_sentiment_prob_negative = validation_data_sentiment['Prob Negative'].max()\n",
    "max_sentiment_idx_positive = validation_data_sentiment.index[validation_data_sentiment['Prob Positive'] == max_sentiment_prob_positive].to_list()[0]\n",
    "most_positive_review = validation_data.iloc[validation_data.index == max_sentiment_idx_positive]['review_clean'].item()\n",
    "max_sentiment_idx_negative = validation_data_sentiment.index[validation_data_sentiment['Prob Negative'] == max_sentiment_prob_negative].to_list()[0]\n",
    "most_negative_review = validation_data.iloc[validation_data.index == max_sentiment_idx_negative]['review_clean'].item()"
   ]
  },
  {
   "cell_type": "markdown",
   "metadata": {
    "id": "IRkXKVU7TI6S"
   },
   "source": [
    "Do you notice something special about those reviews? They are both pretty long! Here we just count number of words regardless of the length of the review but clearly that can affect the results, and in practice one can use some techniques to normalize the counts to avoid prioritizing long reviews over shorter ones (we will discuss this idea in a future week).\n",
    "\n",
    "### **Question 4:** Compute validation accuracy\n",
    "Compute the validation accuracy for the model we just trained. Report the validationaccuracy as a number between 0 and 1 stored in a variable called `sentiment_model_validation_accuracy`.\n",
    "\n",
    "Below, calculate the accuracy of the predictor using sklearn's [accuracy_score](https://scikit-learn.org/stable/modules/generated/sklearn.metrics.accuracy_score.html) function."
   ]
  },
  {
   "cell_type": "code",
   "execution_count": 108,
   "metadata": {
    "id": "bPDA_YOFTI6S"
   },
   "outputs": [
    {
     "data": {
      "text/plain": [
       "0.6404494382022472"
      ]
     },
     "execution_count": 108,
     "metadata": {},
     "output_type": "execute_result"
    }
   ],
   "source": [
    "### edTest(test_q4_sentiment_model_accuracy) ###\n",
    "\n",
    "# TODO Find the validation accuracy of the sentiment model\n",
    "validation_data_predicted_labels = sentiment_model.predict(validation_data[features])\n",
    "sentiment_model_validation_accuracy = accuracy_score(validation_data_predicted_labels, validation_data['sentiment'])\n",
    "sentiment_model_validation_accuracy"
   ]
  },
  {
   "cell_type": "markdown",
   "metadata": {
    "id": "7RlNsJOxTI6S"
   },
   "source": [
    "### **Question 5**: Which model?\n",
    "Compare the validation accuracy for this problem with the validation accuracy of the baseline majority class classifier. Which model would you predict will peform better in the future? \n",
    "\n",
    "* If you think the majority class classifier would do better, write `q5 = 'majority_class_classifier'`.\n",
    "* If you think the sentiment model would do better, write `q5 = 'sentiment_model'`.\n",
    "* If you think we can't choose which model will be best yet since we haven't assessed on the test set, write `q5 = 'cannot say'`.\n",
    "\n",
    "Save your variable indiciating your answer in the next cell."
   ]
  },
  {
   "cell_type": "code",
   "execution_count": 103,
   "metadata": {
    "id": "eu8jCG8pTI6S"
   },
   "outputs": [],
   "source": [
    "### edTest(test_q5_which_model) ###\n",
    "\n",
    "# TODO Answer the question posed above.\n",
    "q5 = 'sentiment_model'"
   ]
  },
  {
   "cell_type": "markdown",
   "metadata": {
    "id": "62EiPpX-TI6S"
   },
   "source": [
    "# Create a confusion matrix\n",
    "\n",
    "A common tool used when analyzing the peformance of a predictor in a classification problem is to look at the confusion matrix, as well as the overall accuracy.\n",
    "\n",
    "We've created a function that will plot a confusion matrix for you given a set of inputs which are the values that should appear within each cell.\n",
    "Recall that there are four values associated with a confusion matrix: true positive, true negative, false positive, and false negative which we will abberviate as TP, TN, FP, and FN, respecitvely. In other words, for the next problem we have handled the plotting code for you that you can use, but you will need to compute the values for each of the confusion matrix dimensions."
   ]
  },
  {
   "cell_type": "code",
   "execution_count": 109,
   "metadata": {
    "id": "3YMCUCIQTI6T"
   },
   "outputs": [],
   "source": [
    "def plot_confusion_matrix(tp, fp, fn, tn):\n",
    "    \"\"\"\n",
    "    Plots a confusion matrix using the values \n",
    "       tp - True Positive\n",
    "       fp - False Positive\n",
    "       fn - False Negative\n",
    "       tn - True Negative\n",
    "    \"\"\"\n",
    "    data = np.matrix([[tp, fp], [fn, tn]])\n",
    "\n",
    "    sns.heatmap(data,annot=True,xticklabels=['Actual Pos', 'Actual Neg']\n",
    "              ,yticklabels=['Pred. Pos', 'Pred. Neg']) "
   ]
  },
  {
   "cell_type": "markdown",
   "metadata": {
    "id": "OdrhEeDMTI6T"
   },
   "source": [
    "### **Question 6:** Compute confusion matrix values and plot\n",
    "\n",
    "Write code below that uses the `plot_confusion_matrix` function to show the number of true positive, true negative, false positive, and false negative predictions made by your classifier. You should store the counts for each of these values in the variables:\n",
    "* `tp`\n",
    "* `fp`\n",
    "* `fn`\n",
    "* `tn` \n",
    "\n",
    "You might find it useful to use named parameters here (i.e. you can call `plot_confusion_matrix(tp=X, fp=Y, fn=A, tn=B)` instead of having to get the order of the parameters correct)"
   ]
  },
  {
   "cell_type": "code",
   "execution_count": 112,
   "metadata": {
    "id": "CjGxE1T_TI6T"
   },
   "outputs": [
    {
     "data": {
      "text/plain": [
       "89"
      ]
     },
     "execution_count": 112,
     "metadata": {},
     "output_type": "execute_result"
    },
    {
     "data": {
      "image/png": "[encoded data removed]",
      "text/plain": [
       "<Figure size 640x480 with 2 Axes>"
      ]
     },
     "metadata": {},
     "output_type": "display_data"
    }
   ],
   "source": [
    "### edTest(test_q6_confusion_matrix) ###\n",
    "\n",
    "# TODO Compute the four values tp, fp, fn, tn and plot them using plot_confusion_matrix\n",
    "tp, fp, fn, tn = 0, 0, 0, 0\n",
    "\n",
    "for i in range(validation_data.shape[0]):\n",
    "    if validation_data.iloc[i]['sentiment'] == 1 and validation_data_predicted_labels[i] == 1:\n",
    "        tp +=1\n",
    "    elif validation_data.iloc[i]['sentiment'] == 1 and validation_data_predicted_labels[i] == -1:\n",
    "        fn +=1\n",
    "    elif validation_data.iloc[i]['sentiment'] == -1 and validation_data_sentiment_labels[i] == 1:\n",
    "        fp +=1\n",
    "    else:\n",
    "        tn +=1\n",
    "\n",
    "plot_confusion_matrix(tp=tp, tn=tn, fp=fp, fn=fn)"
   ]
  },
  {
   "cell_type": "markdown",
   "metadata": {
    "id": "r39NSgBqTI6T"
   },
   "source": [
    "## **Question 7 and 8:** Logistic Regression with L2 regularization\n",
    "\n",
    "One of the challenges of creating features from each word is that there are many more features than observations. It is easy to overfit. We will explore the effect of the regularization in this problem.\n",
    "\n",
    "Now that we have written up all the pieces needed for regularized logistic regression, let's explore the benefits of using **L2 regularization** in analyzing sentiment for product reviews. \n",
    "\n",
    "Like in the last assignment, we will train models with various levels of regularization starting with a small amount and then moving to a  large amount. The code here will have some similarities to the code you did in the last assignment, so you will find that to be a useful reference, but this problem will be slightly more complex since we ask you to compute a few values.\n",
    "\n",
    "This code will be counted as two separate questions since you will be computing slightly different values, but we will ask you to compute both of them in the same starter code to reduce code duplication (since the tasks are very similar). \n",
    "\n",
    "We first outline what you should compute for each question and then show some general implementation notes for both problems below. Your task for this problem is to fill out the code inside the loop to compute the values described below.\n",
    "\n",
    "We recommend focusing on the value you need to compute for Q7 and then once you have that working work on the code you need to compute Q8.\n",
    "\n",
    "### **Question 7:** Coefficient Paths\n",
    "For this question we will ask you to compute the coefficent path for each of the features in the model for various values of the regularization constant.\n",
    "\n",
    "For each regularization strength, train a model using that regularization constant and compute table storing the coefficients of each learned predictor. Store the results in a `DataFrame` named `coef_table`.\n",
    "\n",
    "You should end up with an `DataFrame` with column names as `'coefficients \\[L2=1e-02\\]', ... 'coefficients \\[L2=1e+05\\]'`, and a row for each word in `features`. \n",
    "\n",
    "Before the loop, we set up `coef_table` to have the right rows and columns, but your code will need to fill out the rest.\n",
    "\n",
    "### **Question 8:** Train and Validation Accuracies\n",
    "Similar to Q7, we want you to compute the training and validation accuracy for each learned predictor and store that in a `DataFrame` called `accuracies_table`. \n",
    "\n",
    "You should end up with a `DataFrame` with column names `'l2_penalty', 'train_accuracy', 'validation_accuracy'` and a row for each L2 penalty tried. The L2 penaly should be the number (not the column name from Q7) and the accuracy values should be numbers between 0 and 1 for the appropriate accuracy.\n",
    "\n",
    "For this problem, we recommend the approach used in HW2 to build up a list of dictionaries, and then convert that to a `DataFrame` with the values described.\n",
    "\n",
    "### Implementation Details\n",
    "\n",
    "Some important notes about your implementation:\n",
    "* When constructing a `LogisticRegression` object, make sure to use `random_state=1` to get the same results as us. We also want to avoid having an intercept term in this example, so also pass `fit_intercept=False` when constructing the `LogisticRegression` model.\n",
    "* <span style=\"color:red\">When constructing the LogisticRegression(...) model, the parameter `C` is the **inverse** of the L2 penalty (1 / L2_penalty). </span>\n",
    "* Q7: To store the results of your predictor's coefficients, you will need to get the values from the `.coef_` property. Since the code for this is a little complex, we give you this line below (assumes your trained model is stored in a variable called `model`):\n",
    "  ```\n",
    "  coef_table[column_name] = model.coef_[0]\n",
    "  ```\n",
    "\n",
    "  Confusingly this grabs all the coefficients and treats them like a list of numbers rather than the 2D array of rows/columns that scikit-learn originally provides.\n",
    "\n",
    "* It is okay if your code prints `ConvergenceWarnings`. This is something you would want to avoid in practice but is okay in our assignment for simplicity.\n",
    "\n",
    "* We recommend just focusing on Q7 at first and getting the code to set up the coefficients table right. Then once that's working, evaluate the models for Q8.\n"
   ]
  },
  {
   "cell_type": "code",
   "execution_count": 121,
   "metadata": {
    "id": "dYQp_28bTI6T"
   },
   "outputs": [
    {
     "name": "stderr",
     "output_type": "stream",
     "text": [
      "d:\\cse 416\\env\\lib\\site-packages\\sklearn\\linear_model\\_logistic.py:458: ConvergenceWarning: lbfgs failed to converge (status=1):\n",
      "STOP: TOTAL NO. of ITERATIONS REACHED LIMIT.\n",
      "\n",
      "Increase the number of iterations (max_iter) or scale the data as shown in:\n",
      "    https://scikit-learn.org/stable/modules/preprocessing.html\n",
      "Please also refer to the documentation for alternative solver options:\n",
      "    https://scikit-learn.org/stable/modules/linear_model.html#logistic-regression\n",
      "  n_iter_i = _check_optimize_result(\n"
     ]
    }
   ],
   "source": [
    "### edTest(test_q7_q8_train_models) ###\n",
    "\n",
    "# TODO Fill in the loop below\n",
    "\n",
    "# Set up the regularization penalities to try\n",
    "l2_penalties = [0.01, 1, 4, 10, 1e2, 1e3, 1e5]\n",
    "l2_penalty_names = [f'coefficients [L2={l2_penalty:.0e}]' \n",
    "                    for l2_penalty in l2_penalties]\n",
    "\n",
    "# Q7: Add the coefficients to this coef_table for each model\n",
    "coef_table = pd.DataFrame(columns=['word'] + l2_penalty_names)\n",
    "coef_table['word'] = features\n",
    "\n",
    "# Q8: Set up an empty list to store the accuracies (will convert to DataFrame after loop)\n",
    "accuracy_data = []\n",
    "\n",
    "for l2_penalty, l2_penalty_column_name in zip(l2_penalties, l2_penalty_names):\n",
    "    # TODO(Q7 and Q8): Train the model \n",
    "    model = LogisticRegression(penalty='l2', C=1/l2_penalty, random_state=1)\n",
    "    model.fit(train_data[features], train_data['sentiment'])\n",
    "    # TODO(Q7): Save the coefficients in coef_table\n",
    "    coef_table[l2_penalty_column_name] = model.coef_[0]\n",
    "    # TODO(Q8): Calculate and save the train and validation accuracies\n",
    "    train_predict = model.predict(train_data[features])\n",
    "    validation_predict = model.predict(validation_data[features])\n",
    "    train_accuracy = accuracy_score(train_data['sentiment'], train_predict)\n",
    "    validation_accuracy = accuracy_score(validation_data['sentiment'], validation_predict)\n",
    "    \n",
    "    accuracy_data.append({'l2_penalty': l2_penalty, 'train_accuracy': train_accuracy, 'validation_accuracy': validation_accuracy})\n",
    "\n",
    "accuracies_table = pd.DataFrame(accuracy_data)"
   ]
  },
  {
   "cell_type": "code",
   "execution_count": 122,
   "metadata": {
    "id": "07viU73ATI6T"
   },
   "outputs": [
    {
     "data": {
      "text/html": [
       "<div>\n",
       "<style scoped>\n",
       "    .dataframe tbody tr th:only-of-type {\n",
       "        vertical-align: middle;\n",
       "    }\n",
       "\n",
       "    .dataframe tbody tr th {\n",
       "        vertical-align: top;\n",
       "    }\n",
       "\n",
       "    .dataframe thead th {\n",
       "        text-align: right;\n",
       "    }\n",
       "</style>\n",
       "<table border=\"1\" class=\"dataframe\">\n",
       "  <thead>\n",
       "    <tr style=\"text-align: right;\">\n",
       "      <th></th>\n",
       "      <th>word</th>\n",
       "      <th>coefficients [L2=1e-02]</th>\n",
       "      <th>coefficients [L2=1e+00]</th>\n",
       "      <th>coefficients [L2=4e+00]</th>\n",
       "      <th>coefficients [L2=1e+01]</th>\n",
       "      <th>coefficients [L2=1e+02]</th>\n",
       "      <th>coefficients [L2=1e+03]</th>\n",
       "      <th>coefficients [L2=1e+05]</th>\n",
       "    </tr>\n",
       "  </thead>\n",
       "  <tbody>\n",
       "    <tr>\n",
       "      <th>0</th>\n",
       "      <td>0000</td>\n",
       "      <td>0.076811</td>\n",
       "      <td>0.026139</td>\n",
       "      <td>0.014668</td>\n",
       "      <td>0.009402</td>\n",
       "      <td>0.002636</td>\n",
       "      <td>0.000441</td>\n",
       "      <td>5.004220e-06</td>\n",
       "    </tr>\n",
       "    <tr>\n",
       "      <th>1</th>\n",
       "      <td>002</td>\n",
       "      <td>-0.000177</td>\n",
       "      <td>-0.000934</td>\n",
       "      <td>-0.001322</td>\n",
       "      <td>-0.001298</td>\n",
       "      <td>-0.000419</td>\n",
       "      <td>-0.000027</td>\n",
       "      <td>-4.079967e-06</td>\n",
       "    </tr>\n",
       "    <tr>\n",
       "      <th>2</th>\n",
       "      <td>004</td>\n",
       "      <td>-0.000177</td>\n",
       "      <td>-0.000934</td>\n",
       "      <td>-0.001322</td>\n",
       "      <td>-0.001298</td>\n",
       "      <td>-0.000419</td>\n",
       "      <td>-0.000027</td>\n",
       "      <td>-4.079967e-06</td>\n",
       "    </tr>\n",
       "    <tr>\n",
       "      <th>3</th>\n",
       "      <td>004oz</td>\n",
       "      <td>-0.000177</td>\n",
       "      <td>-0.000934</td>\n",
       "      <td>-0.001322</td>\n",
       "      <td>-0.001298</td>\n",
       "      <td>-0.000419</td>\n",
       "      <td>-0.000027</td>\n",
       "      <td>-4.079967e-06</td>\n",
       "    </tr>\n",
       "    <tr>\n",
       "      <th>4</th>\n",
       "      <td>012months</td>\n",
       "      <td>0.000466</td>\n",
       "      <td>0.001425</td>\n",
       "      <td>0.001527</td>\n",
       "      <td>0.001425</td>\n",
       "      <td>0.001076</td>\n",
       "      <td>0.000383</td>\n",
       "      <td>5.009339e-06</td>\n",
       "    </tr>\n",
       "    <tr>\n",
       "      <th>...</th>\n",
       "      <td>...</td>\n",
       "      <td>...</td>\n",
       "      <td>...</td>\n",
       "      <td>...</td>\n",
       "      <td>...</td>\n",
       "      <td>...</td>\n",
       "      <td>...</td>\n",
       "      <td>...</td>\n",
       "    </tr>\n",
       "    <tr>\n",
       "      <th>7620</th>\n",
       "      <td>zicos</td>\n",
       "      <td>-0.146430</td>\n",
       "      <td>-0.053188</td>\n",
       "      <td>-0.029682</td>\n",
       "      <td>-0.018105</td>\n",
       "      <td>-0.003775</td>\n",
       "      <td>-0.000464</td>\n",
       "      <td>-4.968101e-06</td>\n",
       "    </tr>\n",
       "    <tr>\n",
       "      <th>7621</th>\n",
       "      <td>zillion</td>\n",
       "      <td>-0.082585</td>\n",
       "      <td>-0.053691</td>\n",
       "      <td>-0.038140</td>\n",
       "      <td>-0.025534</td>\n",
       "      <td>-0.004617</td>\n",
       "      <td>-0.000519</td>\n",
       "      <td>-5.021791e-06</td>\n",
       "    </tr>\n",
       "    <tr>\n",
       "      <th>7622</th>\n",
       "      <td>zinger</td>\n",
       "      <td>-0.000275</td>\n",
       "      <td>-0.002245</td>\n",
       "      <td>-0.003756</td>\n",
       "      <td>-0.004038</td>\n",
       "      <td>-0.002400</td>\n",
       "      <td>-0.000410</td>\n",
       "      <td>-4.936411e-06</td>\n",
       "    </tr>\n",
       "    <tr>\n",
       "      <th>7623</th>\n",
       "      <td>zip</td>\n",
       "      <td>0.118160</td>\n",
       "      <td>0.053272</td>\n",
       "      <td>0.033318</td>\n",
       "      <td>0.021897</td>\n",
       "      <td>0.005636</td>\n",
       "      <td>0.000977</td>\n",
       "      <td>1.011543e-05</td>\n",
       "    </tr>\n",
       "    <tr>\n",
       "      <th>7624</th>\n",
       "      <td>ziplock</td>\n",
       "      <td>0.131112</td>\n",
       "      <td>0.040580</td>\n",
       "      <td>0.022601</td>\n",
       "      <td>0.013497</td>\n",
       "      <td>0.002569</td>\n",
       "      <td>0.000253</td>\n",
       "      <td>1.928131e-07</td>\n",
       "    </tr>\n",
       "  </tbody>\n",
       "</table>\n",
       "<p>7625 rows × 8 columns</p>\n",
       "</div>"
      ],
      "text/plain": [
       "           word  coefficients [L2=1e-02]  coefficients [L2=1e+00]  \\\n",
       "0          0000                 0.076811                 0.026139   \n",
       "1           002                -0.000177                -0.000934   \n",
       "2           004                -0.000177                -0.000934   \n",
       "3         004oz                -0.000177                -0.000934   \n",
       "4     012months                 0.000466                 0.001425   \n",
       "...         ...                      ...                      ...   \n",
       "7620      zicos                -0.146430                -0.053188   \n",
       "7621    zillion                -0.082585                -0.053691   \n",
       "7622     zinger                -0.000275                -0.002245   \n",
       "7623        zip                 0.118160                 0.053272   \n",
       "7624    ziplock                 0.131112                 0.040580   \n",
       "\n",
       "      coefficients [L2=4e+00]  coefficients [L2=1e+01]  \\\n",
       "0                    0.014668                 0.009402   \n",
       "1                   -0.001322                -0.001298   \n",
       "2                   -0.001322                -0.001298   \n",
       "3                   -0.001322                -0.001298   \n",
       "4                    0.001527                 0.001425   \n",
       "...                       ...                      ...   \n",
       "7620                -0.029682                -0.018105   \n",
       "7621                -0.038140                -0.025534   \n",
       "7622                -0.003756                -0.004038   \n",
       "7623                 0.033318                 0.021897   \n",
       "7624                 0.022601                 0.013497   \n",
       "\n",
       "      coefficients [L2=1e+02]  coefficients [L2=1e+03]  \\\n",
       "0                    0.002636                 0.000441   \n",
       "1                   -0.000419                -0.000027   \n",
       "2                   -0.000419                -0.000027   \n",
       "3                   -0.000419                -0.000027   \n",
       "4                    0.001076                 0.000383   \n",
       "...                       ...                      ...   \n",
       "7620                -0.003775                -0.000464   \n",
       "7621                -0.004617                -0.000519   \n",
       "7622                -0.002400                -0.000410   \n",
       "7623                 0.005636                 0.000977   \n",
       "7624                 0.002569                 0.000253   \n",
       "\n",
       "      coefficients [L2=1e+05]  \n",
       "0                5.004220e-06  \n",
       "1               -4.079967e-06  \n",
       "2               -4.079967e-06  \n",
       "3               -4.079967e-06  \n",
       "4                5.009339e-06  \n",
       "...                       ...  \n",
       "7620            -4.968101e-06  \n",
       "7621            -5.021791e-06  \n",
       "7622            -4.936411e-06  \n",
       "7623             1.011543e-05  \n",
       "7624             1.928131e-07  \n",
       "\n",
       "[7625 rows x 8 columns]"
      ]
     },
     "execution_count": 122,
     "metadata": {},
     "output_type": "execute_result"
    }
   ],
   "source": [
    "# Look at coef_table\n",
    "coef_table"
   ]
  },
  {
   "cell_type": "code",
   "execution_count": 123,
   "metadata": {
    "id": "uelVJqoyTI6U"
   },
   "outputs": [
    {
     "data": {
      "text/html": [
       "<div>\n",
       "<style scoped>\n",
       "    .dataframe tbody tr th:only-of-type {\n",
       "        vertical-align: middle;\n",
       "    }\n",
       "\n",
       "    .dataframe tbody tr th {\n",
       "        vertical-align: top;\n",
       "    }\n",
       "\n",
       "    .dataframe thead th {\n",
       "        text-align: right;\n",
       "    }\n",
       "</style>\n",
       "<table border=\"1\" class=\"dataframe\">\n",
       "  <thead>\n",
       "    <tr style=\"text-align: right;\">\n",
       "      <th></th>\n",
       "      <th>l2_penalty</th>\n",
       "      <th>train_accuracy</th>\n",
       "      <th>validation_accuracy</th>\n",
       "    </tr>\n",
       "  </thead>\n",
       "  <tbody>\n",
       "    <tr>\n",
       "      <th>0</th>\n",
       "      <td>0.01</td>\n",
       "      <td>1.000000</td>\n",
       "      <td>0.674157</td>\n",
       "    </tr>\n",
       "    <tr>\n",
       "      <th>1</th>\n",
       "      <td>1.00</td>\n",
       "      <td>1.000000</td>\n",
       "      <td>0.651685</td>\n",
       "    </tr>\n",
       "    <tr>\n",
       "      <th>2</th>\n",
       "      <td>4.00</td>\n",
       "      <td>0.998594</td>\n",
       "      <td>0.662921</td>\n",
       "    </tr>\n",
       "    <tr>\n",
       "      <th>3</th>\n",
       "      <td>10.00</td>\n",
       "      <td>0.984529</td>\n",
       "      <td>0.640449</td>\n",
       "    </tr>\n",
       "    <tr>\n",
       "      <th>4</th>\n",
       "      <td>100.00</td>\n",
       "      <td>0.886076</td>\n",
       "      <td>0.651685</td>\n",
       "    </tr>\n",
       "    <tr>\n",
       "      <th>5</th>\n",
       "      <td>1000.00</td>\n",
       "      <td>0.706048</td>\n",
       "      <td>0.617978</td>\n",
       "    </tr>\n",
       "    <tr>\n",
       "      <th>6</th>\n",
       "      <td>100000.00</td>\n",
       "      <td>0.594937</td>\n",
       "      <td>0.539326</td>\n",
       "    </tr>\n",
       "  </tbody>\n",
       "</table>\n",
       "</div>"
      ],
      "text/plain": [
       "   l2_penalty  train_accuracy  validation_accuracy\n",
       "0        0.01        1.000000             0.674157\n",
       "1        1.00        1.000000             0.651685\n",
       "2        4.00        0.998594             0.662921\n",
       "3       10.00        0.984529             0.640449\n",
       "4      100.00        0.886076             0.651685\n",
       "5     1000.00        0.706048             0.617978\n",
       "6   100000.00        0.594937             0.539326"
      ]
     },
     "execution_count": 123,
     "metadata": {},
     "output_type": "execute_result"
    }
   ],
   "source": [
    "# Look at accuracies_table\n",
    "accuracies_table"
   ]
  },
  {
   "cell_type": "markdown",
   "metadata": {
    "id": "LyRB6L8ITI6U"
   },
   "source": [
    "## **Question 9:** Inspect Coefficients\n",
    "\n",
    "We'll now look at the **coefficients** for the model that were trained above. We will create a table of features and learned coefficients associated with each of the different L2 penalty values.\n",
    "\n",
    "Using **the coefficients trained with L2 penalty 1**, find the 5 most positive words (with largest positive coefficients). Save them to `positive_words`. Similarly, find the 5 most negative words (with largest negative coefficients) and save them to `negative_words`. The result should be the `'word'` column for the these rows. \n",
    "\n",
    "To be specific, the type of the value we are looking for is a `Series` in `pandas` which is the type of a single row or column in a `DataFrame`. When you have a `DataFrame`, it is a structure with rows and columns. When you access a single column as in `df[column_name]`, this returns a `Series` representing that one column. \n",
    "\n",
    "This means your result for each one of these variables should be a `Series` of length 5 for the respective words.\n",
    "\n",
    "\n",
    "*Hint:* You can use the `.nlargest()` and `.nsmallest()` method on an DataFrame to find the top `n` rows sorted according to the value of a specified column."
   ]
  },
  {
   "cell_type": "code",
   "execution_count": 129,
   "metadata": {
    "id": "g7n8XL8hTI6U"
   },
   "outputs": [
    {
     "data": {
      "text/plain": [
       "4586          not\n",
       "1398    chocolate\n",
       "919         bland\n",
       "4177          may\n",
       "2071        didnt\n",
       "Name: word, dtype: object"
      ]
     },
     "execution_count": 129,
     "metadata": {},
     "output_type": "execute_result"
    }
   ],
   "source": [
    "### edTest(test_q9_most_positive_negative) ###\n",
    "\n",
    "# TODO Compute words with the 5 largest coefficients and 5 smallest coefficients\n",
    "positive_words = coef_table.nlargest(5, ['coefficients [L2=1e+00]'])['word']\n",
    "negative_words = coef_table.nsmallest(5, ['coefficients [L2=1e+00]'])['word']"
   ]
  },
  {
   "cell_type": "markdown",
   "metadata": {
    "id": "L7RbCPbzTI6U"
   },
   "source": [
    "Let us observe the effect of increasing L2 penalty on the 10 words just selected. We provide you with a utility function to  plot the coefficient path."
   ]
  },
  {
   "cell_type": "code",
   "execution_count": 130,
   "metadata": {
    "id": "ym-TbRZwTI6U"
   },
   "outputs": [
    {
     "data": {
      "image/png": "[encoded data removed]",
      "text/plain": [
       "<Figure size 1000x600 with 1 Axes>"
      ]
     },
     "metadata": {},
     "output_type": "display_data"
    }
   ],
   "source": [
    "def make_coefficient_plot(table, positive_words, negative_words, l2_penalty_list):\n",
    "    def get_cmap_value(cmap, i, total_words):\n",
    "        \"\"\"\n",
    "        Computes a nice scaling of from i=0 to i=total_words - 1\n",
    "        for the given cmap\n",
    "        \"\"\"\n",
    "        return cmap(0.8 * ((i + 1) / (total_words * 1.2) + 0.15))\n",
    "\n",
    "\n",
    "    def plot_coeffs_for_words(ax, words, cmap):\n",
    "        \"\"\"\n",
    "        Given an axes to plot on and a list of words and a cmap,\n",
    "        plots the coefficient paths for each word in words\n",
    "        \"\"\"\n",
    "        words_df = table[table['word'].isin(words)]\n",
    "        words_df = words_df.reset_index(drop=True)  # To make indices sequential\n",
    "\n",
    "        for i, row in words_df.iterrows():\n",
    "            color = get_cmap_value(cmap, i, len(words))\n",
    "            ax.plot(xx, row[row.index != 'word'], '-',\n",
    "                    label=row['word'], linewidth=4.0, color=color)\n",
    "\n",
    "    # Make a canvas to draw on\n",
    "    fig, ax = plt.subplots(1, figsize=(10, 6))\n",
    "   \n",
    "    # Set up the xs to plot and draw a line for y=0\n",
    "    xx = l2_penalty_list\n",
    "    ax.plot(xx, [0.] * len(xx), '--', linewidth=1, color='k')\n",
    "\n",
    "    # Plot the positive and negative coefficient paths\n",
    "    cmap_positive = plt.get_cmap('Reds')\n",
    "    cmap_negative = plt.get_cmap('Blues')\n",
    "    plot_coeffs_for_words(ax, positive_words, cmap_positive)\n",
    "    plot_coeffs_for_words(ax, negative_words, cmap_negative)\n",
    "\n",
    "    # Set up axis labels, scale, and legend  \n",
    "    ax.legend(loc='best', ncol=2, prop={'size':16}, columnspacing=0.5 )\n",
    "    ax.set_title('Coefficient path')\n",
    "    ax.set_xlabel('L2 penalty ($\\lambda$)')\n",
    "    ax.set_ylabel('Coefficient value')\n",
    "    ax.set_xscale('log')\n",
    "\n",
    "\n",
    "make_coefficient_plot(coef_table, positive_words, negative_words, l2_penalty_list=l2_penalties)"
   ]
  }
 ],
 "metadata": {
  "colab": {
   "name": "HW3_Sentiment_Analysis_Logistic_Regression.ipynb",
   "provenance": []
  },
  "kernelspec": {
   "display_name": "Python 3.8.8 ('env': venv)",
   "language": "python",
   "name": "python3"
  },
  "language_info": {
   "codemirror_mode": {
    "name": "ipython",
    "version": 3
   },
   "file_extension": ".py",
   "mimetype": "text/x-python",
   "name": "python",
   "nbconvert_exporter": "python",
   "pygments_lexer": "ipython3",
   "version": "3.8.8"
  },
  "vscode": {
   "interpreter": {
    "hash": "ff228adae71f8b16dd2174beedd5314406215b14462e82025a7eeccf1226a0f2"
   }
  }
 },
 "nbformat": 4,
 "nbformat_minor": 1
}
