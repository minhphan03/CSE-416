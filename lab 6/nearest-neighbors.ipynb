{
    "cells": [
        {
            "attachments": {},
            "cell_type": "markdown",
            "metadata": {},
            "source": [
                "## Setup"
            ]
        },
        {
            "cell_type": "code",
            "execution_count": 1,
            "metadata": {},
            "outputs": [],
            "source": [
                "import numpy as np\n",
                "import pandas as pd\n",
                "import matplotlib.pyplot as plt\n",
                "import seaborn as sns\n",
                "from sklearn.neighbors import KNeighborsClassifier\n",
                "from sklearn.tree import DecisionTreeClassifier\n",
                "from sklearn.preprocessing import StandardScaler\n",
                "from sklearn.model_selection import GridSearchCV, cross_val_score, train_test_split\n",
                "from sklearn.pipeline import Pipeline\n",
                "from sklearn.metrics import accuracy_score"
            ]
        },
        {
            "attachments": {},
            "cell_type": "markdown",
            "metadata": {},
            "source": [
                "The data: We will use the sklearn built-in dataset on handwritten digits."
            ]
        },
        {
            "attachments": {},
            "cell_type": "markdown",
            "metadata": {},
            "source": [
                "This task is an example where k-NN works surprisingly well.\n",
                "\n",
                "Pictures here are 8x8 matrices (intensity of white color for each pixel). Then each such matrix is \"unfolded\" into a vector of length 64, and we obtain a feature description of an object.\n",
                "\n",
                "Let's draw some handwritten digits. We see that they are distinguishable."
            ]
        },
        {
            "cell_type": "code",
            "execution_count": null,
            "metadata": {},
            "outputs": [],
            "source": [
                "from sklearn.datasets import load_digits\n",
                "\n",
                "data = load_digits()\n",
                "X, y = data.data, data.target\n",
                "\n",
                "X[0, :].reshape([8, 8])"
            ]
        },
        {
            "cell_type": "code",
            "execution_count": null,
            "metadata": {},
            "outputs": [],
            "source": [
                "f, axes = plt.subplots(1, 4, sharey=True, figsize=(16, 6))\n",
                "for i in range(4):\n",
                "    axes[i].imshow(X[i, :].reshape([8, 8]), cmap=\"Greys\")"
            ]
        },
        {
            "attachments": {},
            "cell_type": "markdown",
            "metadata": {},
            "source": [
                "The other columns indicate the amount of a protein present in that brain tissue sample."
            ]
        },
        {
            "attachments": {},
            "cell_type": "markdown",
            "metadata": {},
            "source": [
                "## Pre-processing"
            ]
        },
        {
            "attachments": {},
            "cell_type": "markdown",
            "metadata": {},
            "source": [
                "Let's select 70% of the dataset for training (X_train, y_train) and 30% for testing (X_test, y_test). Using [train_test_split](https://scikit-learn.org/stable/modules/generated/sklearn.model_selection.train_test_split.html)."
            ]
        },
        {
            "cell_type": "code",
            "execution_count": null,
            "metadata": {},
            "outputs": [],
            "source": [
                "X_train, X_test, y_train, y_test = train_test_split(X, y, test_size = 0.3, random_state =17)"
            ]
        },
        {
            "attachments": {},
            "cell_type": "markdown",
            "metadata": {},
            "source": [
                "Let’s train a decision tree and k-NN on the training dataset."
            ]
        },
        {
            "attachments": {},
            "cell_type": "markdown",
            "metadata": {},
            "source": [
                "**Question**: Why is scaling the data not necessary for this problem? In general, is it a best practice to scale data for Decision Trees? What about for k-NN?"
            ]
        },
        {
            "attachments": {},
            "cell_type": "markdown",
            "metadata": {},
            "source": [
                "## KNN vs. Decision Trees"
            ]
        },
        {
            "attachments": {},
            "cell_type": "markdown",
            "metadata": {},
            "source": [
                "Define the Classifiers: [DecisionTreeClassifier](https://scikit-learn.org/stable/modules/generated/sklearn.tree.DecisionTreeClassifier.html), [KNeighborsClassifier](https://scikit-learn.org/stable/modules/generated/sklearn.neighbors.KNeighborsClassifier.html)."
            ]
        },
        {
            "cell_type": "code",
            "execution_count": null,
            "metadata": {},
            "outputs": [],
            "source": [
                "tree = DecisionTreeClassifier(max_depth=5, random_state=17)\n",
                "knn = KNeighborsClassifier(n_neighbors=10)"
            ]
        },
        {
            "attachments": {},
            "cell_type": "markdown",
            "metadata": {},
            "source": [
                "Fit the classifiers to the training data:"
            ]
        },
        {
            "cell_type": "code",
            "execution_count": null,
            "metadata": {},
            "outputs": [],
            "source": [
                "tree.fit(X_train, y_train)\n",
                "knn.fit(X_train, y_train)"
            ]
        },
        {
            "attachments": {},
            "cell_type": "markdown",
            "metadata": {},
            "source": [
                "Now let’s make predictions on our test set."
            ]
        },
        {
            "cell_type": "code",
            "execution_count": null,
            "metadata": {},
            "outputs": [],
            "source": [
                "tree_pred = tree.predict(X_test)\n",
                "knn_pred = knn.predict(X_test)"
            ]
        },
        {
            "attachments": {},
            "cell_type": "markdown",
            "metadata": {},
            "source": [
                "And, find the accuracy scores on test set."
            ]
        },
        {
            "cell_type": "code",
            "execution_count": null,
            "metadata": {},
            "outputs": [],
            "source": [
                "tree_score = accuracy_score(y_test, tree_pred)\n",
                "knn_score = accuracy_score(y_test, knn_pred)"
            ]
        },
        {
            "attachments": {},
            "cell_type": "markdown",
            "metadata": {},
            "source": [
                "Print the accuracy scores:"
            ]
        },
        {
            "cell_type": "code",
            "execution_count": null,
            "metadata": {},
            "outputs": [],
            "source": [
                "print(\"Decision Tree Score =\"+str(tree_score))\n",
                "print(\"knn score = \"+ str(knn_score) )"
            ]
        },
        {
            "attachments": {},
            "cell_type": "markdown",
            "metadata": {},
            "source": [
                "## Tuning Hyperparameters"
            ]
        },
        {
            "attachments": {},
            "cell_type": "markdown",
            "metadata": {},
            "source": [
                "Now let’s tune our model parameters using [GridSearchCV](https://scikit-learn.org/stable/modules/generated/sklearn.model_selection.GridSearchCV.html) (cross-validation).\n",
                "\n",
                "### For Decision Trees"
            ]
        },
        {
            "cell_type": "code",
            "execution_count": null,
            "metadata": {},
            "outputs": [],
            "source": [
                "tree_params = {\n",
                "    \"max_depth\": [1, 2, 3, 5, 10, 20, 25, 30, 40, 50, 64],\n",
                "    \"max_features\": [1, 2, 3, 5, 10, 20, 30, 50, 64],\n",
                "}\n",
                "\n",
                "tree_grid = GridSearchCV(tree, tree_params, cv=5, n_jobs=-1, verbose=True)\n",
                "\n",
                "tree_grid.fit(X_train, y_train)"
            ]
        },
        {
            "attachments": {},
            "cell_type": "markdown",
            "metadata": {},
            "source": [
                "Let's see the best parameters combination and the corresponding accuracy from cross-validation:"
            ]
        },
        {
            "cell_type": "code",
            "execution_count": null,
            "metadata": {},
            "outputs": [],
            "source": [
                "tree_grid.best_params_, tree_grid.best_score_"
            ]
        },
        {
            "attachments": {},
            "cell_type": "markdown",
            "metadata": {},
            "source": [
                "### For KNN"
            ]
        },
        {
            "cell_type": "code",
            "execution_count": null,
            "metadata": {},
            "outputs": [],
            "source": [
                "n_neighbors = [1,2,3,4,5,6,7,8,9,10]\n",
                "knn_params = {\n",
                "    \"n_neighbors\": n_neighbors\n",
                "}\n",
                "knn_grid = GridSearchCV(knn, knn_params, cv=5, n_jobs=-1, verbose=True)\n",
                "\n",
                "knn_grid.fit(X_train,y_train)"
            ]
        },
        {
            "attachments": {},
            "cell_type": "markdown",
            "metadata": {},
            "source": [
                "Let's see the best parameters combination and the corresponding accuracy from cross-validation for KNN."
            ]
        },
        {
            "cell_type": "code",
            "execution_count": null,
            "metadata": {},
            "outputs": [],
            "source": [
                "knn_grid.best_params_, knn_grid.best_score_"
            ]
        },
        {
            "attachments": {},
            "cell_type": "markdown",
            "metadata": {},
            "source": [
                "**Question**: Why does KNN perform better for this dataset than Decision Trees?"
            ]
        },
        {
            "attachments": {},
            "cell_type": "markdown",
            "metadata": {},
            "source": [
                "Let's see how the CV score changes with k."
            ]
        },
        {
            "cell_type": "code",
            "execution_count": null,
            "metadata": {},
            "outputs": [],
            "source": [
                "plt.plot(n_neighbors,knn_grid.cv_results_['mean_test_score'])\n",
                "plt.xlabel('k')\n",
                "plt.ylabel('Mean CV Score')"
            ]
        },
        {
            "attachments": {},
            "cell_type": "markdown",
            "metadata": {},
            "source": [
                "**Question**: What happens when k is a high number?"
            ]
        },
        {
            "cell_type": "code",
            "execution_count": null,
            "metadata": {},
            "outputs": [],
            "source": []
        },
        {
            "attachments": {},
            "cell_type": "markdown",
            "metadata": {},
            "source": [
                "## Comparing the Confusion Matrix"
            ]
        },
        {
            "attachments": {},
            "cell_type": "markdown",
            "metadata": {},
            "source": [
                "See the associated confusion matrices."
            ]
        },
        {
            "cell_type": "code",
            "execution_count": null,
            "metadata": {},
            "outputs": [],
            "source": [
                "from sklearn.metrics import confusion_matrix\n",
                "\n",
                "def visualize_confusion_matrix(test, pred, score):\n",
                "    cm = confusion_matrix(test, pred)\n",
                "    plt.figure(figsize=(9,9))\n",
                "    sns.heatmap(cm, annot=True, fmt=\".3f\", linewidths=.5, square = True, cmap = 'Blues_r')\n",
                "    plt.ylabel('Actual label')\n",
                "    plt.xlabel('Predicted label')\n",
                "    all_sample_title = 'Accuracy Score: {0}'.format(score)\n",
                "    plt.title(all_sample_title, size = 15)"
            ]
        },
        {
            "attachments": {},
            "cell_type": "markdown",
            "metadata": {},
            "source": [
                "### For Decision Trees"
            ]
        },
        {
            "cell_type": "code",
            "execution_count": null,
            "metadata": {},
            "outputs": [],
            "source": [
                "dt_y_pred = tree_grid.predict(X_test)\n",
                "dt_score = tree_grid.score(X_test, y_test)\n",
                "visualize_confusion_matrix(y_test, dt_y_pred, dt_score)"
            ]
        },
        {
            "attachments": {},
            "cell_type": "markdown",
            "metadata": {},
            "source": [
                "### For KNN"
            ]
        },
        {
            "cell_type": "code",
            "execution_count": null,
            "metadata": {},
            "outputs": [],
            "source": []
        },
        {
            "attachments": {},
            "cell_type": "markdown",
            "metadata": {},
            "source": [
                "**Question**: In confusion matrix, why is it good to have higher values in the diagonal and lower values in the off-diagonals?"
            ]
        }
    ],
    "metadata": {
        "kernelspec": {
            "display_name": "Python 3.8.8 ('env': venv)",
            "language": "python",
            "name": "python3"
        },
        "language_info": {
            "codemirror_mode": {
                "name": "ipython",
                "version": 3
            },
            "file_extension": ".py",
            "mimetype": "text/x-python",
            "name": "python",
            "nbconvert_exporter": "python",
            "pygments_lexer": "ipython3",
            "version": "3.8.8"
        },
        "vscode": {
            "interpreter": {
                "hash": "ff228adae71f8b16dd2174beedd5314406215b14462e82025a7eeccf1226a0f2"
            }
        }
    },
    "nbformat": 4,
    "nbformat_minor": 1
}
